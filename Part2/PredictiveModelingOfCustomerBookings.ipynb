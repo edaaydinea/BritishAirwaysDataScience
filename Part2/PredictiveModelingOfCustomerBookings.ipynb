{
 "cells": [
  {
   "cell_type": "markdown",
   "metadata": {},
   "source": [
    "# Task 2\n",
    "\n",
    "---\n",
    "\n",
    "## Predictive modeling of customer bookings\n",
    "\n",
    "This Jupyter notebook includes some code to get you started with this predictive modeling task. We will use various packages for data manipulation, feature engineering and machine learning.\n",
    "\n",
    "### Exploratory data analysis\n",
    "\n",
    "First, we must explore the data in order to better understand what we have and the statistical properties of the dataset."
   ]
  },
  {
   "cell_type": "code",
   "execution_count": 1,
   "metadata": {},
   "outputs": [],
   "source": [
    "import pandas as pd\n",
    "import matplotlib.pyplot as plt\n",
    "import numpy as np\n",
    "import seaborn as sns"
   ]
  },
  {
   "cell_type": "code",
   "execution_count": 62,
   "metadata": {},
   "outputs": [],
   "source": [
    "df_main = pd.read_csv(\"data/customer_booking.csv\", encoding=\"ISO-8859-1\")"
   ]
  },
  {
   "cell_type": "code",
   "execution_count": 2,
   "metadata": {},
   "outputs": [
    {
     "data": {
      "text/html": [
       "<div>\n",
       "<style scoped>\n",
       "    .dataframe tbody tr th:only-of-type {\n",
       "        vertical-align: middle;\n",
       "    }\n",
       "\n",
       "    .dataframe tbody tr th {\n",
       "        vertical-align: top;\n",
       "    }\n",
       "\n",
       "    .dataframe thead th {\n",
       "        text-align: right;\n",
       "    }\n",
       "</style>\n",
       "<table border=\"1\" class=\"dataframe\">\n",
       "  <thead>\n",
       "    <tr style=\"text-align: right;\">\n",
       "      <th></th>\n",
       "      <th>num_passengers</th>\n",
       "      <th>sales_channel</th>\n",
       "      <th>trip_type</th>\n",
       "      <th>purchase_lead</th>\n",
       "      <th>length_of_stay</th>\n",
       "      <th>flight_hour</th>\n",
       "      <th>flight_day</th>\n",
       "      <th>route</th>\n",
       "      <th>booking_origin</th>\n",
       "      <th>wants_extra_baggage</th>\n",
       "      <th>wants_preferred_seat</th>\n",
       "      <th>wants_in_flight_meals</th>\n",
       "      <th>flight_duration</th>\n",
       "      <th>booking_complete</th>\n",
       "    </tr>\n",
       "  </thead>\n",
       "  <tbody>\n",
       "    <tr>\n",
       "      <th>0</th>\n",
       "      <td>2</td>\n",
       "      <td>Internet</td>\n",
       "      <td>RoundTrip</td>\n",
       "      <td>262</td>\n",
       "      <td>19</td>\n",
       "      <td>7</td>\n",
       "      <td>Sat</td>\n",
       "      <td>AKLDEL</td>\n",
       "      <td>New Zealand</td>\n",
       "      <td>1</td>\n",
       "      <td>0</td>\n",
       "      <td>0</td>\n",
       "      <td>5.52</td>\n",
       "      <td>0</td>\n",
       "    </tr>\n",
       "    <tr>\n",
       "      <th>1</th>\n",
       "      <td>1</td>\n",
       "      <td>Internet</td>\n",
       "      <td>RoundTrip</td>\n",
       "      <td>112</td>\n",
       "      <td>20</td>\n",
       "      <td>3</td>\n",
       "      <td>Sat</td>\n",
       "      <td>AKLDEL</td>\n",
       "      <td>New Zealand</td>\n",
       "      <td>0</td>\n",
       "      <td>0</td>\n",
       "      <td>0</td>\n",
       "      <td>5.52</td>\n",
       "      <td>0</td>\n",
       "    </tr>\n",
       "    <tr>\n",
       "      <th>2</th>\n",
       "      <td>2</td>\n",
       "      <td>Internet</td>\n",
       "      <td>RoundTrip</td>\n",
       "      <td>243</td>\n",
       "      <td>22</td>\n",
       "      <td>17</td>\n",
       "      <td>Wed</td>\n",
       "      <td>AKLDEL</td>\n",
       "      <td>India</td>\n",
       "      <td>1</td>\n",
       "      <td>1</td>\n",
       "      <td>0</td>\n",
       "      <td>5.52</td>\n",
       "      <td>0</td>\n",
       "    </tr>\n",
       "    <tr>\n",
       "      <th>3</th>\n",
       "      <td>1</td>\n",
       "      <td>Internet</td>\n",
       "      <td>RoundTrip</td>\n",
       "      <td>96</td>\n",
       "      <td>31</td>\n",
       "      <td>4</td>\n",
       "      <td>Sat</td>\n",
       "      <td>AKLDEL</td>\n",
       "      <td>New Zealand</td>\n",
       "      <td>0</td>\n",
       "      <td>0</td>\n",
       "      <td>1</td>\n",
       "      <td>5.52</td>\n",
       "      <td>0</td>\n",
       "    </tr>\n",
       "    <tr>\n",
       "      <th>4</th>\n",
       "      <td>2</td>\n",
       "      <td>Internet</td>\n",
       "      <td>RoundTrip</td>\n",
       "      <td>68</td>\n",
       "      <td>22</td>\n",
       "      <td>15</td>\n",
       "      <td>Wed</td>\n",
       "      <td>AKLDEL</td>\n",
       "      <td>India</td>\n",
       "      <td>1</td>\n",
       "      <td>0</td>\n",
       "      <td>1</td>\n",
       "      <td>5.52</td>\n",
       "      <td>0</td>\n",
       "    </tr>\n",
       "  </tbody>\n",
       "</table>\n",
       "</div>"
      ],
      "text/plain": [
       "   num_passengers sales_channel  trip_type  purchase_lead  length_of_stay  \\\n",
       "0               2      Internet  RoundTrip            262              19   \n",
       "1               1      Internet  RoundTrip            112              20   \n",
       "2               2      Internet  RoundTrip            243              22   \n",
       "3               1      Internet  RoundTrip             96              31   \n",
       "4               2      Internet  RoundTrip             68              22   \n",
       "\n",
       "   flight_hour flight_day   route booking_origin  wants_extra_baggage  \\\n",
       "0            7        Sat  AKLDEL    New Zealand                    1   \n",
       "1            3        Sat  AKLDEL    New Zealand                    0   \n",
       "2           17        Wed  AKLDEL          India                    1   \n",
       "3            4        Sat  AKLDEL    New Zealand                    0   \n",
       "4           15        Wed  AKLDEL          India                    1   \n",
       "\n",
       "   wants_preferred_seat  wants_in_flight_meals  flight_duration  \\\n",
       "0                     0                      0             5.52   \n",
       "1                     0                      0             5.52   \n",
       "2                     1                      0             5.52   \n",
       "3                     0                      1             5.52   \n",
       "4                     0                      1             5.52   \n",
       "\n",
       "   booking_complete  \n",
       "0                 0  \n",
       "1                 0  \n",
       "2                 0  \n",
       "3                 0  \n",
       "4                 0  "
      ]
     },
     "execution_count": 2,
     "metadata": {},
     "output_type": "execute_result"
    }
   ],
   "source": [
    "df = pd.read_csv(\"data/customer_booking.csv\", encoding=\"ISO-8859-1\")\n",
    "df.head()"
   ]
  },
  {
   "cell_type": "markdown",
   "metadata": {},
   "source": [
    "The `.head()` method allows us to view the first 5 rows in the dataset, this is useful for visual inspection of our columns"
   ]
  },
  {
   "cell_type": "code",
   "execution_count": 3,
   "metadata": {},
   "outputs": [
    {
     "name": "stdout",
     "output_type": "stream",
     "text": [
      "<class 'pandas.core.frame.DataFrame'>\n",
      "RangeIndex: 50000 entries, 0 to 49999\n",
      "Data columns (total 14 columns):\n",
      " #   Column                 Non-Null Count  Dtype  \n",
      "---  ------                 --------------  -----  \n",
      " 0   num_passengers         50000 non-null  int64  \n",
      " 1   sales_channel          50000 non-null  object \n",
      " 2   trip_type              50000 non-null  object \n",
      " 3   purchase_lead          50000 non-null  int64  \n",
      " 4   length_of_stay         50000 non-null  int64  \n",
      " 5   flight_hour            50000 non-null  int64  \n",
      " 6   flight_day             50000 non-null  object \n",
      " 7   route                  50000 non-null  object \n",
      " 8   booking_origin         50000 non-null  object \n",
      " 9   wants_extra_baggage    50000 non-null  int64  \n",
      " 10  wants_preferred_seat   50000 non-null  int64  \n",
      " 11  wants_in_flight_meals  50000 non-null  int64  \n",
      " 12  flight_duration        50000 non-null  float64\n",
      " 13  booking_complete       50000 non-null  int64  \n",
      "dtypes: float64(1), int64(8), object(5)\n",
      "memory usage: 5.3+ MB\n"
     ]
    }
   ],
   "source": [
    "df.info()"
   ]
  },
  {
   "cell_type": "markdown",
   "metadata": {},
   "source": [
    "The `.info()` method gives us a data description, telling us the names of the columns, their data types and how many null values we have. Fortunately, we have no null values. It looks like some of these columns should be converted into different data types, e.g. flight_day.\n",
    "\n",
    "To provide more context, below is a more detailed data description, explaining exactly what each column means:\n",
    "\n",
    "- `num_passengers` = number of passengers travelling\n",
    "- `sales_channel` = sales channel booking was made on\n",
    "- `trip_type` = trip Type (Round Trip, One Way, Circle Trip)\n",
    "- `purchase_lead` = number of days between travel date and booking date\n",
    "- `length_of_stay` = number of days spent at destination\n",
    "- `flight_hour` = hour of flight departure\n",
    "- `flight_day` = day of week of flight departure\n",
    "- `route` = origin -> destination flight route\n",
    "- `booking_origin` = country from where booking was made\n",
    "- `wants_extra_baggage` = if the customer wanted extra baggage in the booking\n",
    "- `wants_preferred_seat` = if the customer wanted a preferred seat in the booking\n",
    "- `wants_in_flight_meals` = if the customer wanted in-flight meals in the booking\n",
    "- `flight_duration` = total duration of flight (in hours)\n",
    "- `booking_complete` = flag indicating if the customer completed the booking\n",
    "\n",
    "Before we compute any statistics on the data, lets do any necessary data conversion"
   ]
  },
  {
   "cell_type": "code",
   "execution_count": 4,
   "metadata": {},
   "outputs": [
    {
     "data": {
      "text/html": [
       "<div>\n",
       "<style scoped>\n",
       "    .dataframe tbody tr th:only-of-type {\n",
       "        vertical-align: middle;\n",
       "    }\n",
       "\n",
       "    .dataframe tbody tr th {\n",
       "        vertical-align: top;\n",
       "    }\n",
       "\n",
       "    .dataframe thead th {\n",
       "        text-align: right;\n",
       "    }\n",
       "</style>\n",
       "<table border=\"1\" class=\"dataframe\">\n",
       "  <thead>\n",
       "    <tr style=\"text-align: right;\">\n",
       "      <th></th>\n",
       "      <th>num_passengers</th>\n",
       "      <th>purchase_lead</th>\n",
       "      <th>length_of_stay</th>\n",
       "      <th>flight_hour</th>\n",
       "      <th>wants_extra_baggage</th>\n",
       "      <th>wants_preferred_seat</th>\n",
       "      <th>wants_in_flight_meals</th>\n",
       "      <th>flight_duration</th>\n",
       "      <th>booking_complete</th>\n",
       "    </tr>\n",
       "  </thead>\n",
       "  <tbody>\n",
       "    <tr>\n",
       "      <th>count</th>\n",
       "      <td>50000.000000</td>\n",
       "      <td>50000.000000</td>\n",
       "      <td>50000.00000</td>\n",
       "      <td>50000.00000</td>\n",
       "      <td>50000.000000</td>\n",
       "      <td>50000.000000</td>\n",
       "      <td>50000.000000</td>\n",
       "      <td>50000.000000</td>\n",
       "      <td>50000.000000</td>\n",
       "    </tr>\n",
       "    <tr>\n",
       "      <th>mean</th>\n",
       "      <td>1.591240</td>\n",
       "      <td>84.940480</td>\n",
       "      <td>23.04456</td>\n",
       "      <td>9.06634</td>\n",
       "      <td>0.668780</td>\n",
       "      <td>0.296960</td>\n",
       "      <td>0.427140</td>\n",
       "      <td>7.277561</td>\n",
       "      <td>0.149560</td>\n",
       "    </tr>\n",
       "    <tr>\n",
       "      <th>std</th>\n",
       "      <td>1.020165</td>\n",
       "      <td>90.451378</td>\n",
       "      <td>33.88767</td>\n",
       "      <td>5.41266</td>\n",
       "      <td>0.470657</td>\n",
       "      <td>0.456923</td>\n",
       "      <td>0.494668</td>\n",
       "      <td>1.496863</td>\n",
       "      <td>0.356643</td>\n",
       "    </tr>\n",
       "    <tr>\n",
       "      <th>min</th>\n",
       "      <td>1.000000</td>\n",
       "      <td>0.000000</td>\n",
       "      <td>0.00000</td>\n",
       "      <td>0.00000</td>\n",
       "      <td>0.000000</td>\n",
       "      <td>0.000000</td>\n",
       "      <td>0.000000</td>\n",
       "      <td>4.670000</td>\n",
       "      <td>0.000000</td>\n",
       "    </tr>\n",
       "    <tr>\n",
       "      <th>25%</th>\n",
       "      <td>1.000000</td>\n",
       "      <td>21.000000</td>\n",
       "      <td>5.00000</td>\n",
       "      <td>5.00000</td>\n",
       "      <td>0.000000</td>\n",
       "      <td>0.000000</td>\n",
       "      <td>0.000000</td>\n",
       "      <td>5.620000</td>\n",
       "      <td>0.000000</td>\n",
       "    </tr>\n",
       "    <tr>\n",
       "      <th>50%</th>\n",
       "      <td>1.000000</td>\n",
       "      <td>51.000000</td>\n",
       "      <td>17.00000</td>\n",
       "      <td>9.00000</td>\n",
       "      <td>1.000000</td>\n",
       "      <td>0.000000</td>\n",
       "      <td>0.000000</td>\n",
       "      <td>7.570000</td>\n",
       "      <td>0.000000</td>\n",
       "    </tr>\n",
       "    <tr>\n",
       "      <th>75%</th>\n",
       "      <td>2.000000</td>\n",
       "      <td>115.000000</td>\n",
       "      <td>28.00000</td>\n",
       "      <td>13.00000</td>\n",
       "      <td>1.000000</td>\n",
       "      <td>1.000000</td>\n",
       "      <td>1.000000</td>\n",
       "      <td>8.830000</td>\n",
       "      <td>0.000000</td>\n",
       "    </tr>\n",
       "    <tr>\n",
       "      <th>max</th>\n",
       "      <td>9.000000</td>\n",
       "      <td>867.000000</td>\n",
       "      <td>778.00000</td>\n",
       "      <td>23.00000</td>\n",
       "      <td>1.000000</td>\n",
       "      <td>1.000000</td>\n",
       "      <td>1.000000</td>\n",
       "      <td>9.500000</td>\n",
       "      <td>1.000000</td>\n",
       "    </tr>\n",
       "  </tbody>\n",
       "</table>\n",
       "</div>"
      ],
      "text/plain": [
       "       num_passengers  purchase_lead  length_of_stay  flight_hour  \\\n",
       "count    50000.000000   50000.000000     50000.00000  50000.00000   \n",
       "mean         1.591240      84.940480        23.04456      9.06634   \n",
       "std          1.020165      90.451378        33.88767      5.41266   \n",
       "min          1.000000       0.000000         0.00000      0.00000   \n",
       "25%          1.000000      21.000000         5.00000      5.00000   \n",
       "50%          1.000000      51.000000        17.00000      9.00000   \n",
       "75%          2.000000     115.000000        28.00000     13.00000   \n",
       "max          9.000000     867.000000       778.00000     23.00000   \n",
       "\n",
       "       wants_extra_baggage  wants_preferred_seat  wants_in_flight_meals  \\\n",
       "count         50000.000000          50000.000000           50000.000000   \n",
       "mean              0.668780              0.296960               0.427140   \n",
       "std               0.470657              0.456923               0.494668   \n",
       "min               0.000000              0.000000               0.000000   \n",
       "25%               0.000000              0.000000               0.000000   \n",
       "50%               1.000000              0.000000               0.000000   \n",
       "75%               1.000000              1.000000               1.000000   \n",
       "max               1.000000              1.000000               1.000000   \n",
       "\n",
       "       flight_duration  booking_complete  \n",
       "count     50000.000000      50000.000000  \n",
       "mean          7.277561          0.149560  \n",
       "std           1.496863          0.356643  \n",
       "min           4.670000          0.000000  \n",
       "25%           5.620000          0.000000  \n",
       "50%           7.570000          0.000000  \n",
       "75%           8.830000          0.000000  \n",
       "max           9.500000          1.000000  "
      ]
     },
     "execution_count": 4,
     "metadata": {},
     "output_type": "execute_result"
    }
   ],
   "source": [
    "df.describe()"
   ]
  },
  {
   "cell_type": "markdown",
   "metadata": {},
   "source": [
    "The `.describe()` method gives us a summary of descriptive statistics over the entire dataset (only works for numeric columns). This gives us a quick overview of a few things such as the mean, min, max and overall distribution of each column.\n",
    "\n",
    "From this point, you should continue exploring the dataset with some visualisations and other metrics that you think may be useful. Then, you should prepare your dataset for predictive modelling. Finally, you should train your machine learning model, evaluate it with performance metrics and output visualisations for the contributing variables. All of this analysis should be summarised in your single slide."
   ]
  },
  {
   "cell_type": "code",
   "execution_count": 5,
   "metadata": {},
   "outputs": [],
   "source": [
    "# copy the df for visualization \n",
    "df_vis = df.copy()"
   ]
  },
  {
   "cell_type": "markdown",
   "metadata": {},
   "source": [
    "## Demystifying Variables Type"
   ]
  },
  {
   "cell_type": "code",
   "execution_count": 6,
   "metadata": {},
   "outputs": [],
   "source": [
    "def grab_col_names(dataframe, categorical_threshold=10, cardinal_threshold=20, target=None):\n",
    "    \"\"\"\n",
    "    It gives the names of categorical, numerical and categorical but cardinal,nominal variables in the data set.\n",
    "    Note: Categorical variables but numerical variables are also included in categorical variables.\n",
    "\n",
    "    Parameters\n",
    "    ----------\n",
    "    dataframe : dataframe\n",
    "        The dataframe from which variables names are to be retrieved.\n",
    "    categorical_threshold : int, optional\n",
    "        class threshold for numeric but categorical variables\n",
    "    cardinal_threshold : int, optional\n",
    "        Class threshold for categorical but cardinal variables\n",
    "\n",
    "    Returns\n",
    "    -------\n",
    "        categorical_cols : list\n",
    "            Categorical variable list\n",
    "        numerical_cols : list\n",
    "            Numerical variable list\n",
    "        cardinal_cols : list\n",
    "            Categorical looking cardinal variable list\n",
    "\n",
    "    Examples\n",
    "    -------\n",
    "        import seaborn as sns\n",
    "        df = sns.load_titanic_dataset(\"iris\")\n",
    "        print(grab_col_names(df))\n",
    "\n",
    "    Notes\n",
    "    -------\n",
    "        categorical_cols + numerical_cols + cardinal_cols = total number of variables.\n",
    "        nominal_cols is inside categorical_cols\n",
    "        The sum of the 3 returned lists equals the total number of variables: categorical_cols + cardinal_cols = number of variables\n",
    "\n",
    "    \"\"\"\n",
    "    \n",
    "    # Remove the target column from the dataset\n",
    "    if target in dataframe.columns:\n",
    "        dataframe = dataframe.drop(target, axis=1)\n",
    "    \n",
    "\n",
    "    categorical_cols = [col for col in dataframe.columns if dataframe[col].dtypes == \"O\"]\n",
    "    nominal_cols = [col for col in dataframe.columns if\n",
    "                    dataframe[col].nunique() < categorical_threshold and dataframe[col].dtypes != \"O\"]\n",
    "    cardinal_cols = [col for col in dataframe.columns if\n",
    "                     dataframe[col].nunique() > cardinal_threshold and dataframe[col].dtypes == \"O\"]\n",
    "    categorical_cols = categorical_cols + nominal_cols\n",
    "    categorical_cols = [col for col in categorical_cols if col not in cardinal_cols]\n",
    "\n",
    "    # numerical_cols\n",
    "    numerical_cols = [col for col in dataframe.columns if dataframe[col].dtypes != \"O\"]\n",
    "    numerical_cols = [col for col in numerical_cols if col not in categorical_cols]\n",
    "\n",
    "    print(f\"Observations: {dataframe.shape[0]}\")\n",
    "    print(f\"Variables: {dataframe.shape[1]}\")\n",
    "    print(f'categorical_cols: {len(categorical_cols)}')\n",
    "    print(f'numerical_cols: {len(numerical_cols)}')\n",
    "    print(f'cardinal_cols: {len(cardinal_cols)}')\n",
    "    print(f'nominal_cols: {len(nominal_cols)}')\n",
    "    return categorical_cols, numerical_cols, cardinal_cols, nominal_cols"
   ]
  },
  {
   "cell_type": "code",
   "execution_count": 7,
   "metadata": {},
   "outputs": [],
   "source": [
    "target = \"booking_complete\""
   ]
  },
  {
   "cell_type": "code",
   "execution_count": 8,
   "metadata": {},
   "outputs": [
    {
     "name": "stdout",
     "output_type": "stream",
     "text": [
      "Observations: 50000\n",
      "Variables: 13\n",
      "categorical_cols: 6\n",
      "numerical_cols: 5\n",
      "cardinal_cols: 2\n",
      "nominal_cols: 3\n"
     ]
    }
   ],
   "source": [
    "# Değişken türlerin ayrıştırılması\n",
    "categorical_cols, numerical_cols, cardinal_cols, nominal_cols = grab_col_names(df, categorical_threshold=5, cardinal_threshold=20, target=target)"
   ]
  },
  {
   "cell_type": "code",
   "execution_count": 9,
   "metadata": {},
   "outputs": [
    {
     "name": "stdout",
     "output_type": "stream",
     "text": [
      "Categorical column names: ['sales_channel', 'trip_type', 'flight_day', 'wants_extra_baggage', 'wants_preferred_seat', 'wants_in_flight_meals']\n",
      "\n",
      "\n",
      "Numerical column names: ['num_passengers', 'purchase_lead', 'length_of_stay', 'flight_hour', 'flight_duration']\n",
      "\n",
      "\n",
      "Cardinal column names: ['route', 'booking_origin']\n",
      "\n",
      "\n",
      "Nominal column names: ['wants_extra_baggage', 'wants_preferred_seat', 'wants_in_flight_meals']\n"
     ]
    }
   ],
   "source": [
    "print(\"Categorical column names: {}\".format(categorical_cols))\n",
    "print(\"\\n\")\n",
    "print(\"Numerical column names: {}\".format(numerical_cols))\n",
    "print(\"\\n\")\n",
    "print(\"Cardinal column names: {}\".format(cardinal_cols))\n",
    "print(\"\\n\")\n",
    "print(\"Nominal column names: {}\".format(nominal_cols))"
   ]
  },
  {
   "cell_type": "markdown",
   "metadata": {},
   "source": [
    "### Data Structure Control (Float / String / Integer)"
   ]
  },
  {
   "cell_type": "code",
   "execution_count": 10,
   "metadata": {},
   "outputs": [],
   "source": [
    "\"\"\"\n",
    "\n",
    "Description:\n",
    "-----------\n",
    "\n",
    "Algorithm print out comprises missing ratios and unique values of each column i a given dataframe\n",
    "\n",
    "\n",
    "R&D:\n",
    "---\n",
    "\n",
    "Add '#_infinity_' column to the dataframe\n",
    "\n",
    "\"\"\"\n",
    "\n",
    "def MissingUniqueStatistics(df):\n",
    "\n",
    "  import io\n",
    "  import pandas as pd\n",
    "  import psutil, os, gc, time\n",
    "  import seaborn as sns\n",
    "  from IPython.display import display, HTML\n",
    "  # pd.set_option('display.max_colwidth', -1)\n",
    "  from io import BytesIO\n",
    "  import base64\n",
    "\n",
    "  print(\"MissingUniqueStatistics process has began:\\n\")\n",
    "  proc = psutil.Process(os.getpid())\n",
    "  gc.collect()\n",
    "  mem_0 = proc.memory_info().rss\n",
    "  start_time = time.time()\n",
    "\n",
    "  # def createFigure(col):\n",
    "  #     fig, ax = plt.subplots(figsize=(.4, .4))\n",
    "  #     fig.subplots_adjust(0,0,1,1)\n",
    "  #     ax.axis(\"off\")\n",
    "  #     ax.axis([0,1,0,1])\n",
    "  #     print(col,df.loc[:,col].dtypes)\n",
    "\n",
    "  #     if df.loc[:,col].dtype==\"object\":\n",
    "  #       sns.catplot(data=df, x=col, kind=\"count\")\n",
    "  #     else:\n",
    "  #       sns.distplot(df.loc[:,col], color=\"m\")\n",
    "  #     # c = plt.hist(df.loc[:,col])\n",
    "  #     #ax.add_patch(c)\n",
    "  #     return fig\n",
    "\n",
    "  # # def fig2inlinehtml(fig):\n",
    "  # #     figfile = BytesIO()\n",
    "  # #     fig.savefig(figfile, format='png')\n",
    "  # #     figfile.seek(0)\n",
    "  # #     figdata_png = base64.b64encode(figfile.getvalue()).decode()\n",
    "  # #     imgstr = '<img src=\"data:image/png;base64,{}\" />'.format(figdata_png)\n",
    "  # #     return imgstr\n",
    "\n",
    "  # def mapping(col):\n",
    "  #   fig = createFigure(col)\n",
    "  #   fname = \"./map_{}.png\".format(col)\n",
    "  #   fig.savefig(fname)\n",
    "  #   imgstr = '<img src=\"{}\" /> '.format(fname)\n",
    "  #   return imgstr\n",
    "  #   # fig = createFigure(col)\n",
    "  #   # return fig2inlinehtml(fig)\n",
    "\n",
    "  variable_name_list = []\n",
    "  total_entry_list = []\n",
    "  data_type_list = []\n",
    "  unique_values_list = []\n",
    "  number_of_unique_values_list = []\n",
    "  missing_value_number_list = []\n",
    "  missing_value_ratio_list = []\n",
    "  mean_list=[]\n",
    "  std_list=[]\n",
    "  min_list=[]\n",
    "  Q1_list=[]\n",
    "  Q2_list=[]\n",
    "  Q3_list=[]\n",
    "  max_list=[]\n",
    "\n",
    "  df_statistics = df.describe().copy()\n",
    "\n",
    "  for col in df.columns:\n",
    "\n",
    "    variable_name_list.append(col)\n",
    "    total_entry_list.append(df.loc[:,col].shape[0])\n",
    "    data_type_list.append(df.loc[:,col].dtype)\n",
    "    unique_values_list.append(list(df.loc[:,col].unique()))\n",
    "    number_of_unique_values_list.append(len(list(df.loc[:,col].unique())))\n",
    "    missing_value_number_list.append(df.loc[:,col].isna().sum())\n",
    "    missing_value_ratio_list.append(round((df.loc[:,col].isna().sum()/df.loc[:,col].shape[0]),4))\n",
    "\n",
    "    try:\n",
    "      mean_list.append(df_statistics.loc[:,col][1])\n",
    "      std_list.append(df_statistics.loc[:,col][2])\n",
    "      min_list.append(df_statistics.loc[:,col][3])\n",
    "      Q1_list.append(df_statistics.loc[:,col][4])\n",
    "      Q2_list.append(df_statistics.loc[:,col][5])\n",
    "      Q3_list.append(df_statistics.loc[:,col][6])\n",
    "      max_list.append(df_statistics.loc[:,col][7])\n",
    "    except:\n",
    "      mean_list.append('NaN')\n",
    "      std_list.append('NaN')\n",
    "      min_list.append('NaN')\n",
    "      Q1_list.append('NaN')\n",
    "      Q2_list.append('NaN')\n",
    "      Q3_list.append('NaN')\n",
    "      max_list.append('NaN')\n",
    "\n",
    "  data_info_df = pd.DataFrame({'Variable': variable_name_list,\n",
    "                               '#_Total_Entry':total_entry_list,\n",
    "                               '#_Missing_Value': missing_value_number_list,\n",
    "                               '%_Missing_Value':missing_value_ratio_list,\n",
    "                               'Data_Type': data_type_list,\n",
    "                               'Unique_Values': unique_values_list,\n",
    "                               '#_Unique_Values':number_of_unique_values_list,\n",
    "                               'Mean':mean_list,\n",
    "                               'STD':std_list,\n",
    "                               'Min':min_list,\n",
    "                               'Q1':Q1_list,\n",
    "                               'Q2':Q2_list,\n",
    "                               'Q3':Q3_list,\n",
    "                               'Max':max_list\n",
    "                               })\n",
    "\n",
    "  data_info_df = data_info_df.set_index(\"Variable\", inplace=False)\n",
    "\n",
    "  # data_info_df['pdf'] = np.nan\n",
    "  # for col in data_info_df.index:\n",
    "  #   data_info_df.loc[col,'pdf'] = mapping(col)\n",
    "\n",
    "  print('MissingUniqueStatistics process has been completed!')\n",
    "  print(\"--- in %s minutes ---\" % ((time.time() - start_time)/60))\n",
    "\n",
    "  return data_info_df.sort_values(by='%_Missing_Value', ascending=False)#, HTML(df.to_html(escape=False, formatters=dict(col=mapping)))"
   ]
  },
  {
   "cell_type": "code",
   "execution_count": 11,
   "metadata": {},
   "outputs": [
    {
     "name": "stdout",
     "output_type": "stream",
     "text": [
      "MissingUniqueStatistics process has began:\n",
      "\n",
      "MissingUniqueStatistics process has been completed!\n",
      "--- in 0.0015420277913411459 minutes ---\n"
     ]
    },
    {
     "name": "stderr",
     "output_type": "stream",
     "text": [
      "C:\\Users\\Eda AYDIN\\AppData\\Local\\Temp\\ipykernel_37068\\3919564226.py:93: FutureWarning: Series.__getitem__ treating keys as positions is deprecated. In a future version, integer keys will always be treated as labels (consistent with DataFrame behavior). To access a value by position, use `ser.iloc[pos]`\n",
      "  mean_list.append(df_statistics.loc[:,col][1])\n",
      "C:\\Users\\Eda AYDIN\\AppData\\Local\\Temp\\ipykernel_37068\\3919564226.py:94: FutureWarning: Series.__getitem__ treating keys as positions is deprecated. In a future version, integer keys will always be treated as labels (consistent with DataFrame behavior). To access a value by position, use `ser.iloc[pos]`\n",
      "  std_list.append(df_statistics.loc[:,col][2])\n",
      "C:\\Users\\Eda AYDIN\\AppData\\Local\\Temp\\ipykernel_37068\\3919564226.py:95: FutureWarning: Series.__getitem__ treating keys as positions is deprecated. In a future version, integer keys will always be treated as labels (consistent with DataFrame behavior). To access a value by position, use `ser.iloc[pos]`\n",
      "  min_list.append(df_statistics.loc[:,col][3])\n",
      "C:\\Users\\Eda AYDIN\\AppData\\Local\\Temp\\ipykernel_37068\\3919564226.py:96: FutureWarning: Series.__getitem__ treating keys as positions is deprecated. In a future version, integer keys will always be treated as labels (consistent with DataFrame behavior). To access a value by position, use `ser.iloc[pos]`\n",
      "  Q1_list.append(df_statistics.loc[:,col][4])\n",
      "C:\\Users\\Eda AYDIN\\AppData\\Local\\Temp\\ipykernel_37068\\3919564226.py:97: FutureWarning: Series.__getitem__ treating keys as positions is deprecated. In a future version, integer keys will always be treated as labels (consistent with DataFrame behavior). To access a value by position, use `ser.iloc[pos]`\n",
      "  Q2_list.append(df_statistics.loc[:,col][5])\n",
      "C:\\Users\\Eda AYDIN\\AppData\\Local\\Temp\\ipykernel_37068\\3919564226.py:98: FutureWarning: Series.__getitem__ treating keys as positions is deprecated. In a future version, integer keys will always be treated as labels (consistent with DataFrame behavior). To access a value by position, use `ser.iloc[pos]`\n",
      "  Q3_list.append(df_statistics.loc[:,col][6])\n",
      "C:\\Users\\Eda AYDIN\\AppData\\Local\\Temp\\ipykernel_37068\\3919564226.py:99: FutureWarning: Series.__getitem__ treating keys as positions is deprecated. In a future version, integer keys will always be treated as labels (consistent with DataFrame behavior). To access a value by position, use `ser.iloc[pos]`\n",
      "  max_list.append(df_statistics.loc[:,col][7])\n"
     ]
    },
    {
     "data": {
      "text/html": [
       "<div>\n",
       "<style scoped>\n",
       "    .dataframe tbody tr th:only-of-type {\n",
       "        vertical-align: middle;\n",
       "    }\n",
       "\n",
       "    .dataframe tbody tr th {\n",
       "        vertical-align: top;\n",
       "    }\n",
       "\n",
       "    .dataframe thead th {\n",
       "        text-align: right;\n",
       "    }\n",
       "</style>\n",
       "<table border=\"1\" class=\"dataframe\">\n",
       "  <thead>\n",
       "    <tr style=\"text-align: right;\">\n",
       "      <th></th>\n",
       "      <th>#_Total_Entry</th>\n",
       "      <th>#_Missing_Value</th>\n",
       "      <th>%_Missing_Value</th>\n",
       "      <th>Data_Type</th>\n",
       "      <th>Unique_Values</th>\n",
       "      <th>#_Unique_Values</th>\n",
       "      <th>Mean</th>\n",
       "      <th>STD</th>\n",
       "      <th>Min</th>\n",
       "      <th>Q1</th>\n",
       "      <th>Q2</th>\n",
       "      <th>Q3</th>\n",
       "      <th>Max</th>\n",
       "    </tr>\n",
       "    <tr>\n",
       "      <th>Variable</th>\n",
       "      <th></th>\n",
       "      <th></th>\n",
       "      <th></th>\n",
       "      <th></th>\n",
       "      <th></th>\n",
       "      <th></th>\n",
       "      <th></th>\n",
       "      <th></th>\n",
       "      <th></th>\n",
       "      <th></th>\n",
       "      <th></th>\n",
       "      <th></th>\n",
       "      <th></th>\n",
       "    </tr>\n",
       "  </thead>\n",
       "  <tbody>\n",
       "    <tr>\n",
       "      <th>num_passengers</th>\n",
       "      <td>50000</td>\n",
       "      <td>0</td>\n",
       "      <td>0.0</td>\n",
       "      <td>int64</td>\n",
       "      <td>[2, 1, 3, 4, 6, 5, 7, 9, 8]</td>\n",
       "      <td>9</td>\n",
       "      <td>1.59124</td>\n",
       "      <td>1.020165</td>\n",
       "      <td>1.0</td>\n",
       "      <td>1.0</td>\n",
       "      <td>1.0</td>\n",
       "      <td>2.0</td>\n",
       "      <td>9.0</td>\n",
       "    </tr>\n",
       "    <tr>\n",
       "      <th>sales_channel</th>\n",
       "      <td>50000</td>\n",
       "      <td>0</td>\n",
       "      <td>0.0</td>\n",
       "      <td>object</td>\n",
       "      <td>[Internet, Mobile]</td>\n",
       "      <td>2</td>\n",
       "      <td>NaN</td>\n",
       "      <td>NaN</td>\n",
       "      <td>NaN</td>\n",
       "      <td>NaN</td>\n",
       "      <td>NaN</td>\n",
       "      <td>NaN</td>\n",
       "      <td>NaN</td>\n",
       "    </tr>\n",
       "    <tr>\n",
       "      <th>trip_type</th>\n",
       "      <td>50000</td>\n",
       "      <td>0</td>\n",
       "      <td>0.0</td>\n",
       "      <td>object</td>\n",
       "      <td>[RoundTrip, CircleTrip, OneWay]</td>\n",
       "      <td>3</td>\n",
       "      <td>NaN</td>\n",
       "      <td>NaN</td>\n",
       "      <td>NaN</td>\n",
       "      <td>NaN</td>\n",
       "      <td>NaN</td>\n",
       "      <td>NaN</td>\n",
       "      <td>NaN</td>\n",
       "    </tr>\n",
       "    <tr>\n",
       "      <th>purchase_lead</th>\n",
       "      <td>50000</td>\n",
       "      <td>0</td>\n",
       "      <td>0.0</td>\n",
       "      <td>int64</td>\n",
       "      <td>[262, 112, 243, 96, 68, 3, 201, 238, 80, 378, ...</td>\n",
       "      <td>470</td>\n",
       "      <td>84.94048</td>\n",
       "      <td>90.451378</td>\n",
       "      <td>0.0</td>\n",
       "      <td>21.0</td>\n",
       "      <td>51.0</td>\n",
       "      <td>115.0</td>\n",
       "      <td>867.0</td>\n",
       "    </tr>\n",
       "    <tr>\n",
       "      <th>length_of_stay</th>\n",
       "      <td>50000</td>\n",
       "      <td>0</td>\n",
       "      <td>0.0</td>\n",
       "      <td>int64</td>\n",
       "      <td>[19, 20, 22, 31, 48, 33, 30, 25, 43, 24, 17, 3...</td>\n",
       "      <td>335</td>\n",
       "      <td>23.04456</td>\n",
       "      <td>33.88767</td>\n",
       "      <td>0.0</td>\n",
       "      <td>5.0</td>\n",
       "      <td>17.0</td>\n",
       "      <td>28.0</td>\n",
       "      <td>778.0</td>\n",
       "    </tr>\n",
       "    <tr>\n",
       "      <th>flight_hour</th>\n",
       "      <td>50000</td>\n",
       "      <td>0</td>\n",
       "      <td>0.0</td>\n",
       "      <td>int64</td>\n",
       "      <td>[7, 3, 17, 4, 15, 20, 6, 14, 12, 2, 19, 10, 8,...</td>\n",
       "      <td>24</td>\n",
       "      <td>9.06634</td>\n",
       "      <td>5.41266</td>\n",
       "      <td>0.0</td>\n",
       "      <td>5.0</td>\n",
       "      <td>9.0</td>\n",
       "      <td>13.0</td>\n",
       "      <td>23.0</td>\n",
       "    </tr>\n",
       "    <tr>\n",
       "      <th>flight_day</th>\n",
       "      <td>50000</td>\n",
       "      <td>0</td>\n",
       "      <td>0.0</td>\n",
       "      <td>object</td>\n",
       "      <td>[Sat, Wed, Thu, Mon, Sun, Tue, Fri]</td>\n",
       "      <td>7</td>\n",
       "      <td>NaN</td>\n",
       "      <td>NaN</td>\n",
       "      <td>NaN</td>\n",
       "      <td>NaN</td>\n",
       "      <td>NaN</td>\n",
       "      <td>NaN</td>\n",
       "      <td>NaN</td>\n",
       "    </tr>\n",
       "    <tr>\n",
       "      <th>route</th>\n",
       "      <td>50000</td>\n",
       "      <td>0</td>\n",
       "      <td>0.0</td>\n",
       "      <td>object</td>\n",
       "      <td>[AKLDEL, AKLHGH, AKLHND, AKLICN, AKLKIX, AKLKT...</td>\n",
       "      <td>799</td>\n",
       "      <td>NaN</td>\n",
       "      <td>NaN</td>\n",
       "      <td>NaN</td>\n",
       "      <td>NaN</td>\n",
       "      <td>NaN</td>\n",
       "      <td>NaN</td>\n",
       "      <td>NaN</td>\n",
       "    </tr>\n",
       "    <tr>\n",
       "      <th>booking_origin</th>\n",
       "      <td>50000</td>\n",
       "      <td>0</td>\n",
       "      <td>0.0</td>\n",
       "      <td>object</td>\n",
       "      <td>[New Zealand, India, United Kingdom, China, So...</td>\n",
       "      <td>104</td>\n",
       "      <td>NaN</td>\n",
       "      <td>NaN</td>\n",
       "      <td>NaN</td>\n",
       "      <td>NaN</td>\n",
       "      <td>NaN</td>\n",
       "      <td>NaN</td>\n",
       "      <td>NaN</td>\n",
       "    </tr>\n",
       "    <tr>\n",
       "      <th>wants_extra_baggage</th>\n",
       "      <td>50000</td>\n",
       "      <td>0</td>\n",
       "      <td>0.0</td>\n",
       "      <td>int64</td>\n",
       "      <td>[1, 0]</td>\n",
       "      <td>2</td>\n",
       "      <td>0.66878</td>\n",
       "      <td>0.470657</td>\n",
       "      <td>0.0</td>\n",
       "      <td>0.0</td>\n",
       "      <td>1.0</td>\n",
       "      <td>1.0</td>\n",
       "      <td>1.0</td>\n",
       "    </tr>\n",
       "    <tr>\n",
       "      <th>wants_preferred_seat</th>\n",
       "      <td>50000</td>\n",
       "      <td>0</td>\n",
       "      <td>0.0</td>\n",
       "      <td>int64</td>\n",
       "      <td>[0, 1]</td>\n",
       "      <td>2</td>\n",
       "      <td>0.29696</td>\n",
       "      <td>0.456923</td>\n",
       "      <td>0.0</td>\n",
       "      <td>0.0</td>\n",
       "      <td>0.0</td>\n",
       "      <td>1.0</td>\n",
       "      <td>1.0</td>\n",
       "    </tr>\n",
       "    <tr>\n",
       "      <th>wants_in_flight_meals</th>\n",
       "      <td>50000</td>\n",
       "      <td>0</td>\n",
       "      <td>0.0</td>\n",
       "      <td>int64</td>\n",
       "      <td>[0, 1]</td>\n",
       "      <td>2</td>\n",
       "      <td>0.42714</td>\n",
       "      <td>0.494668</td>\n",
       "      <td>0.0</td>\n",
       "      <td>0.0</td>\n",
       "      <td>0.0</td>\n",
       "      <td>1.0</td>\n",
       "      <td>1.0</td>\n",
       "    </tr>\n",
       "    <tr>\n",
       "      <th>flight_duration</th>\n",
       "      <td>50000</td>\n",
       "      <td>0</td>\n",
       "      <td>0.0</td>\n",
       "      <td>float64</td>\n",
       "      <td>[5.52, 5.07, 7.57, 6.62, 7.0, 4.75, 8.83, 7.42...</td>\n",
       "      <td>21</td>\n",
       "      <td>7.277561</td>\n",
       "      <td>1.496863</td>\n",
       "      <td>4.67</td>\n",
       "      <td>5.62</td>\n",
       "      <td>7.57</td>\n",
       "      <td>8.83</td>\n",
       "      <td>9.5</td>\n",
       "    </tr>\n",
       "    <tr>\n",
       "      <th>booking_complete</th>\n",
       "      <td>50000</td>\n",
       "      <td>0</td>\n",
       "      <td>0.0</td>\n",
       "      <td>int64</td>\n",
       "      <td>[0, 1]</td>\n",
       "      <td>2</td>\n",
       "      <td>0.14956</td>\n",
       "      <td>0.356643</td>\n",
       "      <td>0.0</td>\n",
       "      <td>0.0</td>\n",
       "      <td>0.0</td>\n",
       "      <td>0.0</td>\n",
       "      <td>1.0</td>\n",
       "    </tr>\n",
       "  </tbody>\n",
       "</table>\n",
       "</div>"
      ],
      "text/plain": [
       "                       #_Total_Entry  #_Missing_Value  %_Missing_Value  \\\n",
       "Variable                                                                 \n",
       "num_passengers                 50000                0              0.0   \n",
       "sales_channel                  50000                0              0.0   \n",
       "trip_type                      50000                0              0.0   \n",
       "purchase_lead                  50000                0              0.0   \n",
       "length_of_stay                 50000                0              0.0   \n",
       "flight_hour                    50000                0              0.0   \n",
       "flight_day                     50000                0              0.0   \n",
       "route                          50000                0              0.0   \n",
       "booking_origin                 50000                0              0.0   \n",
       "wants_extra_baggage            50000                0              0.0   \n",
       "wants_preferred_seat           50000                0              0.0   \n",
       "wants_in_flight_meals          50000                0              0.0   \n",
       "flight_duration                50000                0              0.0   \n",
       "booking_complete               50000                0              0.0   \n",
       "\n",
       "                      Data_Type  \\\n",
       "Variable                          \n",
       "num_passengers            int64   \n",
       "sales_channel            object   \n",
       "trip_type                object   \n",
       "purchase_lead             int64   \n",
       "length_of_stay            int64   \n",
       "flight_hour               int64   \n",
       "flight_day               object   \n",
       "route                    object   \n",
       "booking_origin           object   \n",
       "wants_extra_baggage       int64   \n",
       "wants_preferred_seat      int64   \n",
       "wants_in_flight_meals     int64   \n",
       "flight_duration         float64   \n",
       "booking_complete          int64   \n",
       "\n",
       "                                                           Unique_Values  \\\n",
       "Variable                                                                   \n",
       "num_passengers                               [2, 1, 3, 4, 6, 5, 7, 9, 8]   \n",
       "sales_channel                                         [Internet, Mobile]   \n",
       "trip_type                                [RoundTrip, CircleTrip, OneWay]   \n",
       "purchase_lead          [262, 112, 243, 96, 68, 3, 201, 238, 80, 378, ...   \n",
       "length_of_stay         [19, 20, 22, 31, 48, 33, 30, 25, 43, 24, 17, 3...   \n",
       "flight_hour            [7, 3, 17, 4, 15, 20, 6, 14, 12, 2, 19, 10, 8,...   \n",
       "flight_day                           [Sat, Wed, Thu, Mon, Sun, Tue, Fri]   \n",
       "route                  [AKLDEL, AKLHGH, AKLHND, AKLICN, AKLKIX, AKLKT...   \n",
       "booking_origin         [New Zealand, India, United Kingdom, China, So...   \n",
       "wants_extra_baggage                                               [1, 0]   \n",
       "wants_preferred_seat                                              [0, 1]   \n",
       "wants_in_flight_meals                                             [0, 1]   \n",
       "flight_duration        [5.52, 5.07, 7.57, 6.62, 7.0, 4.75, 8.83, 7.42...   \n",
       "booking_complete                                                  [0, 1]   \n",
       "\n",
       "                       #_Unique_Values      Mean        STD   Min    Q1    Q2  \\\n",
       "Variable                                                                        \n",
       "num_passengers                       9   1.59124   1.020165   1.0   1.0   1.0   \n",
       "sales_channel                        2       NaN        NaN   NaN   NaN   NaN   \n",
       "trip_type                            3       NaN        NaN   NaN   NaN   NaN   \n",
       "purchase_lead                      470  84.94048  90.451378   0.0  21.0  51.0   \n",
       "length_of_stay                     335  23.04456   33.88767   0.0   5.0  17.0   \n",
       "flight_hour                         24   9.06634    5.41266   0.0   5.0   9.0   \n",
       "flight_day                           7       NaN        NaN   NaN   NaN   NaN   \n",
       "route                              799       NaN        NaN   NaN   NaN   NaN   \n",
       "booking_origin                     104       NaN        NaN   NaN   NaN   NaN   \n",
       "wants_extra_baggage                  2   0.66878   0.470657   0.0   0.0   1.0   \n",
       "wants_preferred_seat                 2   0.29696   0.456923   0.0   0.0   0.0   \n",
       "wants_in_flight_meals                2   0.42714   0.494668   0.0   0.0   0.0   \n",
       "flight_duration                     21  7.277561   1.496863  4.67  5.62  7.57   \n",
       "booking_complete                     2   0.14956   0.356643   0.0   0.0   0.0   \n",
       "\n",
       "                          Q3    Max  \n",
       "Variable                             \n",
       "num_passengers           2.0    9.0  \n",
       "sales_channel            NaN    NaN  \n",
       "trip_type                NaN    NaN  \n",
       "purchase_lead          115.0  867.0  \n",
       "length_of_stay          28.0  778.0  \n",
       "flight_hour             13.0   23.0  \n",
       "flight_day               NaN    NaN  \n",
       "route                    NaN    NaN  \n",
       "booking_origin           NaN    NaN  \n",
       "wants_extra_baggage      1.0    1.0  \n",
       "wants_preferred_seat     1.0    1.0  \n",
       "wants_in_flight_meals    1.0    1.0  \n",
       "flight_duration         8.83    9.5  \n",
       "booking_complete         0.0    1.0  "
      ]
     },
     "execution_count": 11,
     "metadata": {},
     "output_type": "execute_result"
    }
   ],
   "source": [
    "data_info = MissingUniqueStatistics(df)\n",
    "# data_info = data_info.set_index(\"Variable\")\n",
    "data_info"
   ]
  },
  {
   "cell_type": "markdown",
   "metadata": {},
   "source": [
    "## Building the Target Variable (Classification)"
   ]
  },
  {
   "cell_type": "code",
   "execution_count": 12,
   "metadata": {},
   "outputs": [],
   "source": [
    "%matplotlib inline\n",
    "# Histogram of the target categories\n",
    "from matplotlib import ticker\n",
    "\n",
    "\n",
    "def histogram(df,feature):\n",
    "    #df = input(\"Enter a DataFrame name: \")\n",
    "    #col = input(\"Enter a target column name: \")\n",
    "    #df=eval(df)\n",
    "    ncount = len(df)\n",
    "    ax = sns.countplot(x = feature, data=df ,palette=\"hls\")\n",
    "    sns.set(font_scale=1)\n",
    "    ax.set_xlabel('Target Segments')\n",
    "    plt.xticks(rotation=90)\n",
    "    ax.set_ylabel('Number of Observations')\n",
    "    fig = plt.gcf()\n",
    "    fig.set_size_inches(12,5)\n",
    "    # Make twin axis\n",
    "    ax2=ax.twinx()\n",
    "    # Switch so count axis is on right, frequency on left\n",
    "    ax2.yaxis.tick_left()\n",
    "    ax.yaxis.tick_right()\n",
    "    # Also switch the labels over\n",
    "    ax.yaxis.set_label_position('right')\n",
    "    ax2.yaxis.set_label_position('left')\n",
    "    ax2.set_ylabel('Frequency [%]')\n",
    "    for p in ax.patches:\n",
    "        x=p.get_bbox().get_points()[:,0]\n",
    "        y=p.get_bbox().get_points()[1,1]\n",
    "        ax.annotate('{:.2f}%'.format(100.*y/ncount), (x.mean(), y),\n",
    "                ha='center', va='bottom') # set the alignment of the text\n",
    "    # Use a LinearLocator to ensure the correct number of ticks\n",
    "    ax.yaxis.set_major_locator(ticker.LinearLocator(11))\n",
    "    # Fix the frequency range to 0-100\n",
    "    ax2.set_ylim(0,100)\n",
    "    ax.set_ylim(0,ncount)\n",
    "    # And use a MultipleLocator to ensure a tick spacing of 10\n",
    "    ax2.yaxis.set_major_locator(ticker.MultipleLocator(10))\n",
    "    # Need to turn the grid on ax2 off, otherwise the gridlines end up on top of the bars\n",
    "    ax2.grid(None)\n",
    "    plt.title('Histogram of Binary Target Categories', fontsize=20, y=1.08)\n",
    "    plt.show()\n",
    "    #plt.savefig('col.png')\n",
    "    del ncount, x, y"
   ]
  },
  {
   "cell_type": "code",
   "execution_count": 13,
   "metadata": {},
   "outputs": [
    {
     "data": {
      "image/png": "[encoded data removed]",
      "text/plain": [
       "<Figure size 1200x500 with 2 Axes>"
      ]
     },
     "metadata": {},
     "output_type": "display_data"
    }
   ],
   "source": [
    "target= \"booking_complete\"\n",
    "\n",
    "histogram(df,target)"
   ]
  },
  {
   "cell_type": "markdown",
   "metadata": {},
   "source": [
    "## Preparatory Data Analysis"
   ]
  },
  {
   "cell_type": "code",
   "execution_count": 14,
   "metadata": {},
   "outputs": [],
   "source": [
    "# Outlier Handling\n",
    "\n",
    "def outlier_thresholds(dataframe, col_name, q1=0.25, q3=0.75):\n",
    "    quartile1 = dataframe[col_name].quantile(q1)\n",
    "    quartile3 = dataframe[col_name].quantile(q3)\n",
    "    interquartile_range = quartile3 - quartile1\n",
    "    up_limit = quartile3 + (1.5 * interquartile_range)\n",
    "    low_limit = quartile1 - (1.5 * interquartile_range)\n",
    "    return low_limit, up_limit"
   ]
  },
  {
   "cell_type": "code",
   "execution_count": 15,
   "metadata": {},
   "outputs": [],
   "source": [
    "def check_outlier(dataframe, col_name):\n",
    "    low_limit, up_limit = outlier_thresholds(dataframe, col_name)\n",
    "    if dataframe[(dataframe[col_name] > up_limit) | (dataframe[col_name] < low_limit)].any(axis=None):\n",
    "        return True\n",
    "    else:\n",
    "        return False"
   ]
  },
  {
   "cell_type": "code",
   "execution_count": 16,
   "metadata": {},
   "outputs": [
    {
     "name": "stdout",
     "output_type": "stream",
     "text": [
      "num_passengers True\n",
      "purchase_lead True\n",
      "length_of_stay True\n",
      "flight_hour False\n",
      "flight_duration False\n"
     ]
    }
   ],
   "source": [
    "for col in numerical_cols:\n",
    "    print(col, check_outlier(df, col))"
   ]
  },
  {
   "cell_type": "code",
   "execution_count": 17,
   "metadata": {},
   "outputs": [],
   "source": [
    "# Accessing Outliers\n",
    "\n",
    "def grab_outliers(dataframe, col_name, index=False):\n",
    "    low, up = outlier_thresholds(dataframe, col_name)\n",
    "    if dataframe[((dataframe[col_name] < low) | (dataframe[col_name] > up))].shape[0] > 10:\n",
    "        print(dataframe[((dataframe[col_name] < low) | (dataframe[col_name] > up))].head())\n",
    "    else:\n",
    "        print(dataframe[((dataframe[col_name] < low) | (dataframe[col_name] > up))])\n",
    "\n",
    "    if index:\n",
    "        outlier_index = dataframe[((dataframe[col_name] < low) | (dataframe[col_name] > up))].index\n",
    "        return outlier_index"
   ]
  },
  {
   "cell_type": "code",
   "execution_count": 18,
   "metadata": {},
   "outputs": [
    {
     "name": "stdout",
     "output_type": "stream",
     "text": [
      "     num_passengers sales_channel  trip_type  purchase_lead  length_of_stay  \\\n",
      "12                4      Internet  RoundTrip            265              24   \n",
      "37                6      Internet  RoundTrip             20              22   \n",
      "61                4      Internet  RoundTrip            128              21   \n",
      "63                4      Internet  RoundTrip            311              27   \n",
      "118               6      Internet  RoundTrip            172              28   \n",
      "\n",
      "     flight_hour flight_day   route booking_origin  wants_extra_baggage  \\\n",
      "12            19        Mon  AKLDEL    New Zealand                    1   \n",
      "37             3        Fri  AKLICN    South Korea                    1   \n",
      "61             9        Mon  AKLICN    New Zealand                    1   \n",
      "63             6        Sat  AKLICN    New Zealand                    0   \n",
      "118            0        Sat  AKLKUL    New Zealand                    0   \n",
      "\n",
      "     wants_preferred_seat  wants_in_flight_meals  flight_duration  \\\n",
      "12                      0                      1             5.52   \n",
      "37                      1                      1             6.62   \n",
      "61                      1                      0             6.62   \n",
      "63                      1                      0             6.62   \n",
      "118                     0                      1             8.83   \n",
      "\n",
      "     booking_complete  \n",
      "12                  0  \n",
      "37                  0  \n",
      "61                  0  \n",
      "63                  0  \n",
      "118                 0  \n",
      "    num_passengers sales_channel  trip_type  purchase_lead  length_of_stay  \\\n",
      "0                2      Internet  RoundTrip            262              19   \n",
      "9                1        Mobile  RoundTrip            378              30   \n",
      "12               4      Internet  RoundTrip            265              24   \n",
      "16               1      Internet  RoundTrip            259              37   \n",
      "19               1      Internet  RoundTrip            351              17   \n",
      "\n",
      "    flight_hour flight_day   route booking_origin  wants_extra_baggage  \\\n",
      "0             7        Sat  AKLDEL    New Zealand                    1   \n",
      "9            12        Sun  AKLDEL          India                    0   \n",
      "12           19        Mon  AKLDEL    New Zealand                    1   \n",
      "16            6        Sun  AKLDEL          India                    0   \n",
      "19            3        Sun  AKLHGH          China                    0   \n",
      "\n",
      "    wants_preferred_seat  wants_in_flight_meals  flight_duration  \\\n",
      "0                      0                      0             5.52   \n",
      "9                      0                      0             5.52   \n",
      "12                     0                      1             5.52   \n",
      "16                     0                      0             5.52   \n",
      "19                     0                      0             5.07   \n",
      "\n",
      "    booking_complete  \n",
      "0                  0  \n",
      "9                  0  \n",
      "12                 0  \n",
      "16                 0  \n",
      "19                 0  \n",
      "    num_passengers sales_channel  trip_type  purchase_lead  length_of_stay  \\\n",
      "18               1      Internet  RoundTrip             67             155   \n",
      "21               1      Internet  RoundTrip             21              88   \n",
      "31               2      Internet  RoundTrip              7              82   \n",
      "41               1      Internet  RoundTrip             71              90   \n",
      "43               1      Internet  RoundTrip              9              84   \n",
      "\n",
      "    flight_hour flight_day   route booking_origin  wants_extra_baggage  \\\n",
      "18            8        Sun  AKLDEL    New Zealand                    1   \n",
      "21            9        Wed  AKLICN    South Korea                    1   \n",
      "31            4        Thu  AKLICN    South Korea                    1   \n",
      "41            7        Thu  AKLICN    South Korea                    1   \n",
      "43            7        Wed  AKLICN    New Zealand                    1   \n",
      "\n",
      "    wants_preferred_seat  wants_in_flight_meals  flight_duration  \\\n",
      "18                     0                      0             5.52   \n",
      "21                     0                      1             6.62   \n",
      "31                     0                      1             6.62   \n",
      "41                     1                      1             6.62   \n",
      "43                     0                      0             6.62   \n",
      "\n",
      "    booking_complete  \n",
      "18                 0  \n",
      "21                 0  \n",
      "31                 0  \n",
      "41                 0  \n",
      "43                 0  \n",
      "Empty DataFrame\n",
      "Columns: [num_passengers, sales_channel, trip_type, purchase_lead, length_of_stay, flight_hour, flight_day, route, booking_origin, wants_extra_baggage, wants_preferred_seat, wants_in_flight_meals, flight_duration, booking_complete]\n",
      "Index: []\n",
      "Empty DataFrame\n",
      "Columns: [num_passengers, sales_channel, trip_type, purchase_lead, length_of_stay, flight_hour, flight_day, route, booking_origin, wants_extra_baggage, wants_preferred_seat, wants_in_flight_meals, flight_duration, booking_complete]\n",
      "Index: []\n"
     ]
    }
   ],
   "source": [
    "for col in numerical_cols:\n",
    "  grab_outliers(df,col,True)"
   ]
  },
  {
   "cell_type": "code",
   "execution_count": 19,
   "metadata": {},
   "outputs": [],
   "source": [
    "# Solving the Outlier problem\n",
    "\n",
    "def replace_with_thresholds(dataframe, variable):\n",
    "    low_limit, up_limit = outlier_thresholds(dataframe, variable)\n",
    "    dataframe.loc[(dataframe[variable] < low_limit), variable] = low_limit\n",
    "    dataframe.loc[(dataframe[variable] > up_limit), variable] = up_limit"
   ]
  },
  {
   "cell_type": "code",
   "execution_count": 20,
   "metadata": {},
   "outputs": [
    {
     "name": "stderr",
     "output_type": "stream",
     "text": [
      "C:\\Users\\Eda AYDIN\\AppData\\Local\\Temp\\ipykernel_37068\\1724325246.py:5: FutureWarning: Setting an item of incompatible dtype is deprecated and will raise an error in a future version of pandas. Value '-0.5' has dtype incompatible with int64, please explicitly cast to a compatible dtype first.\n",
      "  dataframe.loc[(dataframe[variable] < low_limit), variable] = low_limit\n",
      "C:\\Users\\Eda AYDIN\\AppData\\Local\\Temp\\ipykernel_37068\\1724325246.py:5: FutureWarning: Setting an item of incompatible dtype is deprecated and will raise an error in a future version of pandas. Value '-29.5' has dtype incompatible with int64, please explicitly cast to a compatible dtype first.\n",
      "  dataframe.loc[(dataframe[variable] < low_limit), variable] = low_limit\n"
     ]
    }
   ],
   "source": [
    "for col in numerical_cols:\n",
    "    replace_with_thresholds(df, col)"
   ]
  },
  {
   "cell_type": "code",
   "execution_count": 21,
   "metadata": {},
   "outputs": [
    {
     "name": "stdout",
     "output_type": "stream",
     "text": [
      "num_passengers False\n",
      "purchase_lead False\n",
      "length_of_stay False\n",
      "flight_hour False\n",
      "flight_duration False\n"
     ]
    }
   ],
   "source": [
    "for col in numerical_cols:\n",
    "    print(col, check_outlier(df, col))"
   ]
  },
  {
   "cell_type": "code",
   "execution_count": 22,
   "metadata": {},
   "outputs": [],
   "source": [
    "# Missing Data Handling\n",
    "\n",
    "def missing_values_table(dataframe, na_name=False):\n",
    "\n",
    "    # Column Names with Missing Values\n",
    "    na_columns = [col for col in dataframe.columns if dataframe[col].isnull().sum() > 0]\n",
    "\n",
    "    # Number of Missing Values of One Column\n",
    "    number_of_missing_values = dataframe[na_columns].isnull().sum().sort_values(ascending=False)\n",
    "\n",
    "    # Percentage Distribution of Missing Data\n",
    "    percentage_ratio = (dataframe[na_columns].isnull().sum() / dataframe.shape[0] * 100).sort_values(ascending=False)\n",
    "\n",
    "    # Dataframe with Missing Data\n",
    "    missing_df = pd.concat([number_of_missing_values, np.round(percentage_ratio, 2)], axis=1, keys=['number_of_missing_values', 'percentage_ratio'])\n",
    "\n",
    "    print(missing_df, end=\"\\n\")\n",
    "\n",
    "    if na_name:\n",
    "        return na_columns"
   ]
  },
  {
   "cell_type": "code",
   "execution_count": 23,
   "metadata": {},
   "outputs": [
    {
     "name": "stdout",
     "output_type": "stream",
     "text": [
      "Empty DataFrame\n",
      "Columns: [number_of_missing_values, percentage_ratio]\n",
      "Index: []\n"
     ]
    }
   ],
   "source": [
    "missing_values_table(df)"
   ]
  },
  {
   "cell_type": "markdown",
   "metadata": {},
   "source": [
    "## Exploratory Data Analysis"
   ]
  },
  {
   "cell_type": "code",
   "execution_count": 24,
   "metadata": {},
   "outputs": [],
   "source": [
    "def cat_summary(dataframe, col_name, plot=False,savefig=False):\n",
    "    \"\"\"\n",
    "    It gives summary of categorical columns with a plot.\n",
    "\n",
    "    Args:\n",
    "        dataframe (dataframe): The dataframe from which variables names are to be retrieved.\n",
    "        col_name (string): The column names from which features names are to be retrieved\n",
    "        plot (bool, optional): Plot the figure of the specified column. Defaults to False.\n",
    "        savefig(bool, optional): Save the figure of the specific column to the folder. Defaults to False\n",
    "    \"\"\"\n",
    "    print(pd.DataFrame({col_name: dataframe[col_name].value_counts(),\n",
    "                        \"Ratio\": 100 * dataframe[col_name].value_counts() / len(dataframe)}))\n",
    "    print(\"########################################## \\n\")\n",
    "\n",
    "    if plot:\n",
    "        ax = sns.countplot(x=dataframe[col_name], data=dataframe,\n",
    "                           order = df[col_name].value_counts().index)\n",
    "\n",
    "        ncount = len(dataframe)\n",
    "        sns.set(font_scale = 1)\n",
    "\n",
    "        for p in ax.patches:\n",
    "            x = p.get_bbox().get_points()[:, 0]\n",
    "            y = p.get_bbox().get_points()[1, 1]\n",
    "            ax.annotate('{:.2f}%'.format(100.*y/ncount), (x.mean(), y),ha='center', va='bottom')  # set the alignment of the text\n",
    "\n",
    "        # Use a LinearLocator to ensure the correct number of ticks\n",
    "        ax.yaxis.set_major_locator(ticker.LinearLocator(11))\n",
    "\n",
    "        plt.xticks(rotation=45)\n",
    "        plt.title(\"{} Count Graph.png\".format(col_name.capitalize()))\n",
    "        if savefig:\n",
    "            plt.savefig(\"{} Count Graph.png\".format(col_name.capitalize()))\n",
    "        plt.show(block=True)"
   ]
  },
  {
   "cell_type": "code",
   "execution_count": 25,
   "metadata": {},
   "outputs": [
    {
     "data": {
      "text/plain": [
       "trip_type\n",
       "RoundTrip     49497\n",
       "OneWay          387\n",
       "CircleTrip      116\n",
       "Name: count, dtype: int64"
      ]
     },
     "execution_count": 25,
     "metadata": {},
     "output_type": "execute_result"
    }
   ],
   "source": [
    "df_vis[\"trip_type\"].value_counts()"
   ]
  },
  {
   "cell_type": "code",
   "execution_count": 26,
   "metadata": {},
   "outputs": [
    {
     "name": "stdout",
     "output_type": "stream",
     "text": [
      "               sales_channel   Ratio\n",
      "sales_channel                       \n",
      "Internet               44382  88.764\n",
      "Mobile                  5618  11.236\n",
      "########################################## \n",
      "\n"
     ]
    },
    {
     "data": {
      "image/png": "[encoded data removed]",
      "text/plain": [
       "<Figure size 640x480 with 1 Axes>"
      ]
     },
     "metadata": {},
     "output_type": "display_data"
    },
    {
     "name": "stdout",
     "output_type": "stream",
     "text": [
      "            trip_type   Ratio\n",
      "trip_type                    \n",
      "RoundTrip       49497  98.994\n",
      "OneWay            387   0.774\n",
      "CircleTrip        116   0.232\n",
      "########################################## \n",
      "\n"
     ]
    },
    {
     "data": {
      "image/png": "[encoded data removed]",
      "text/plain": [
       "<Figure size 640x480 with 1 Axes>"
      ]
     },
     "metadata": {},
     "output_type": "display_data"
    },
    {
     "name": "stdout",
     "output_type": "stream",
     "text": [
      "            flight_day   Ratio\n",
      "flight_day                    \n",
      "Mon               8102  16.204\n",
      "Wed               7674  15.348\n",
      "Tue               7673  15.346\n",
      "Thu               7424  14.848\n",
      "Fri               6761  13.522\n",
      "Sun               6554  13.108\n",
      "Sat               5812  11.624\n",
      "########################################## \n",
      "\n"
     ]
    },
    {
     "data": {
      "image/png": "[encoded data removed]",
      "text/plain": [
       "<Figure size 640x480 with 1 Axes>"
      ]
     },
     "metadata": {},
     "output_type": "display_data"
    },
    {
     "name": "stdout",
     "output_type": "stream",
     "text": [
      "                     wants_extra_baggage   Ratio\n",
      "wants_extra_baggage                             \n",
      "1                                  33439  66.878\n",
      "0                                  16561  33.122\n",
      "########################################## \n",
      "\n"
     ]
    },
    {
     "data": {
      "image/png": "[encoded data removed]",
      "text/plain": [
       "<Figure size 640x480 with 1 Axes>"
      ]
     },
     "metadata": {},
     "output_type": "display_data"
    },
    {
     "name": "stdout",
     "output_type": "stream",
     "text": [
      "                      wants_preferred_seat   Ratio\n",
      "wants_preferred_seat                              \n",
      "0                                    35152  70.304\n",
      "1                                    14848  29.696\n",
      "########################################## \n",
      "\n"
     ]
    },
    {
     "data": {
      "image/png": "[encoded data removed]",
      "text/plain": [
       "<Figure size 640x480 with 1 Axes>"
      ]
     },
     "metadata": {},
     "output_type": "display_data"
    },
    {
     "name": "stdout",
     "output_type": "stream",
     "text": [
      "                       wants_in_flight_meals   Ratio\n",
      "wants_in_flight_meals                               \n",
      "0                                      28643  57.286\n",
      "1                                      21357  42.714\n",
      "########################################## \n",
      "\n"
     ]
    },
    {
     "data": {
      "image/png": "[encoded data removed]",
      "text/plain": [
       "<Figure size 640x480 with 1 Axes>"
      ]
     },
     "metadata": {},
     "output_type": "display_data"
    }
   ],
   "source": [
    "# Kategorik değişkenlerin incelenmesi\n",
    "\n",
    "for col in categorical_cols:\n",
    "    cat_summary(df_vis, col, plot=True, savefig=False)"
   ]
  },
  {
   "cell_type": "code",
   "execution_count": 27,
   "metadata": {},
   "outputs": [],
   "source": [
    "def target_summary_with_categorical_data(dataframe, target, categorical_col):\n",
    "    \"\"\"\n",
    "    It gives the summary of specified categorical column name according to target column.\n",
    "\n",
    "    Args:\n",
    "        dataframe (dataframe): The dataframe from which variables names are to be retrieved.\n",
    "        target (string): The target column name are to be retrieved.\n",
    "        categorical_col (string): The categorical column names are to be retrieved.\n",
    "    \"\"\"\n",
    "    print(pd.DataFrame({\"TARGET_MEAN\": dataframe.groupby(categorical_col)[target].mean()}), end=\"\\n\\n\\n\")"
   ]
  },
  {
   "cell_type": "code",
   "execution_count": 28,
   "metadata": {},
   "outputs": [
    {
     "name": "stdout",
     "output_type": "stream",
     "text": [
      "               TARGET_MEAN\n",
      "sales_channel             \n",
      "Internet          0.154770\n",
      "Mobile            0.108402\n",
      "\n",
      "\n",
      "            TARGET_MEAN\n",
      "trip_type              \n",
      "CircleTrip     0.043103\n",
      "OneWay         0.051680\n",
      "RoundTrip      0.150575\n",
      "\n",
      "\n",
      "            TARGET_MEAN\n",
      "flight_day             \n",
      "Fri            0.145393\n",
      "Mon            0.148605\n",
      "Sat            0.148142\n",
      "Sun            0.141440\n",
      "Thu            0.151131\n",
      "Tue            0.147139\n",
      "Wed            0.163148\n",
      "\n",
      "\n",
      "                     TARGET_MEAN\n",
      "wants_extra_baggage             \n",
      "0                       0.115029\n",
      "1                       0.166662\n",
      "\n",
      "\n",
      "                      TARGET_MEAN\n",
      "wants_preferred_seat             \n",
      "0                        0.137944\n",
      "1                        0.177061\n",
      "\n",
      "\n",
      "                       TARGET_MEAN\n",
      "wants_in_flight_meals             \n",
      "0                         0.141396\n",
      "1                         0.160509\n",
      "\n",
      "\n"
     ]
    }
   ],
   "source": [
    "for col in categorical_cols:\n",
    "    target_summary_with_categorical_data(dataframe=df, target = target, categorical_col=col)"
   ]
  },
  {
   "cell_type": "markdown",
   "metadata": {},
   "source": [
    "Below is a brief analysis of the provided TARGET_MEAN values:\n",
    "\n",
    "• For sales_channel, Internet bookings have a higher completion rate (≈15.5%) compared to Mobile (≈10.8%), suggesting that Internet bookings may be more effective or trusted.\n",
    "\n",
    "• For trip_type, RoundTrip bookings show the highest completion rate (≈15.1%), while CircleTrip (≈4.3%) and OneWay (≈5.2%) are much lower. This could indicate that customers planning round trips are more likely to finalize their bookings.\n",
    "\n",
    "• For flight_day, the completion rate is relatively consistent across the days of the week, ranging from ≈12.5% to ≈14.5%. This suggests that the day of the week may not have a significant impact on booking completion.\n",
    "\n",
    "• For the extra services:\n",
    "    - Customers requesting extra baggage (1) have a higher TARGET_MEAN (≈16.7%) compared to those not requesting it (≈11.5%).\n",
    "    - For preferred seat requests, the completion percentage is slightly higher for those who request it (≈17.7% vs. ≈13.8%).\n",
    "    - A similar trend appears with in-flight meals (≈16.1% vs. ≈14.1%).\n",
    "\n",
    "• Finally, the target variable itself is binary, with 0 and 1 having TARGET_MEAN of 0 and 1, respectively, which serves as a sanity check.\n",
    "\n",
    "Overall, it appears that certain booking channels and customer choices (especially round trip, extra service requests) are associated with a higher likelihood of booking completion."
   ]
  },
  {
   "cell_type": "code",
   "execution_count": 29,
   "metadata": {},
   "outputs": [],
   "source": [
    "def num_summary(dataframe, col_name, plot=False, savefig=False):\n",
    "    \"\"\"\n",
    "    It gives the summary of numerical columns with a plot.\n",
    "\n",
    "    Args:\n",
    "        dataframe (dataframe): The dataframe from which variables names are to be retrieved.\n",
    "        col_name (string): The column names from which features names are to be retrieved\n",
    "        plot (bool, optional): Plot the figure of the specified column. Defaults to False.\n",
    "        savefig(bool, optional): Save the figure of the specific column to the folder. Defaults to False\n",
    "\n",
    "    \"\"\"\n",
    "    quantiles = [0.05, 0.10, 0.20, 0.30, 0.40, 0.50, 0.60, 0.70, 0.80, 0.90, 0.95, 0.99]\n",
    "    print(dataframe[col_name].describe(quantiles).T)\n",
    "\n",
    "    if plot:\n",
    "        dataframe[col_name].hist()\n",
    "        plt.xlabel(col_name)\n",
    "        plt.title(\"{} Histogram Graph.png\".format(col_name.capitalize()))\n",
    "        if savefig:\n",
    "            plt.savefig(\"{} Histogram Graph.png\".format(col_name.capitalize()))\n",
    "        plt.show(block=True)"
   ]
  },
  {
   "cell_type": "code",
   "execution_count": 30,
   "metadata": {},
   "outputs": [
    {
     "name": "stdout",
     "output_type": "stream",
     "text": [
      "count    50000.000000\n",
      "mean         1.518870\n",
      "std          0.764866\n",
      "min          1.000000\n",
      "5%           1.000000\n",
      "10%          1.000000\n",
      "20%          1.000000\n",
      "30%          1.000000\n",
      "40%          1.000000\n",
      "50%          1.000000\n",
      "60%          1.000000\n",
      "70%          2.000000\n",
      "80%          2.000000\n",
      "90%          3.000000\n",
      "95%          3.500000\n",
      "99%          3.500000\n",
      "max          3.500000\n",
      "Name: num_passengers, dtype: float64\n"
     ]
    },
    {
     "data": {
      "image/png": "[encoded data removed]",
      "text/plain": [
       "<Figure size 640x480 with 1 Axes>"
      ]
     },
     "metadata": {},
     "output_type": "display_data"
    },
    {
     "name": "stdout",
     "output_type": "stream",
     "text": [
      "count    50000.000000\n",
      "mean        79.978080\n",
      "std         76.829501\n",
      "min          0.000000\n",
      "5%           4.000000\n",
      "10%          8.000000\n",
      "20%         17.000000\n",
      "30%         26.000000\n",
      "40%         38.000000\n",
      "50%         51.000000\n",
      "60%         70.000000\n",
      "70%         96.000000\n",
      "80%        141.000000\n",
      "90%        224.000000\n",
      "95%        256.000000\n",
      "99%        256.000000\n",
      "max        256.000000\n",
      "Name: purchase_lead, dtype: float64\n"
     ]
    },
    {
     "data": {
      "image/png": "[encoded data removed]",
      "text/plain": [
       "<Figure size 640x480 with 1 Axes>"
      ]
     },
     "metadata": {},
     "output_type": "display_data"
    },
    {
     "name": "stdout",
     "output_type": "stream",
     "text": [
      "count    50000.000000\n",
      "mean        19.343330\n",
      "std         18.321769\n",
      "min          0.000000\n",
      "5%           3.000000\n",
      "10%          4.000000\n",
      "20%          5.000000\n",
      "30%          5.000000\n",
      "40%          6.000000\n",
      "50%         17.000000\n",
      "60%         20.000000\n",
      "70%         25.000000\n",
      "80%         31.000000\n",
      "90%         53.000000\n",
      "95%         62.500000\n",
      "99%         62.500000\n",
      "max         62.500000\n",
      "Name: length_of_stay, dtype: float64\n"
     ]
    },
    {
     "data": {
      "image/png": "[encoded data removed]",
      "text/plain": [
       "<Figure size 640x480 with 1 Axes>"
      ]
     },
     "metadata": {},
     "output_type": "display_data"
    },
    {
     "name": "stdout",
     "output_type": "stream",
     "text": [
      "count    50000.00000\n",
      "mean         9.06634\n",
      "std          5.41266\n",
      "min          0.00000\n",
      "5%           1.00000\n",
      "10%          2.00000\n",
      "20%          4.00000\n",
      "30%          6.00000\n",
      "40%          7.00000\n",
      "50%          9.00000\n",
      "60%         10.00000\n",
      "70%         12.00000\n",
      "80%         14.00000\n",
      "90%         16.00000\n",
      "95%         19.00000\n",
      "99%         23.00000\n",
      "max         23.00000\n",
      "Name: flight_hour, dtype: float64\n"
     ]
    },
    {
     "data": {
      "image/png": "[encoded data removed]",
      "text/plain": [
       "<Figure size 640x480 with 1 Axes>"
      ]
     },
     "metadata": {},
     "output_type": "display_data"
    },
    {
     "name": "stdout",
     "output_type": "stream",
     "text": [
      "count    50000.000000\n",
      "mean         7.277561\n",
      "std          1.496863\n",
      "min          4.670000\n",
      "5%           4.670000\n",
      "10%          5.070000\n",
      "20%          5.620000\n",
      "30%          6.420000\n",
      "40%          6.620000\n",
      "50%          7.570000\n",
      "60%          8.580000\n",
      "70%          8.670000\n",
      "80%          8.830000\n",
      "90%          8.830000\n",
      "95%          8.830000\n",
      "99%          8.830000\n",
      "max          9.500000\n",
      "Name: flight_duration, dtype: float64\n"
     ]
    },
    {
     "data": {
      "image/png": "[encoded data removed]",
      "text/plain": [
       "<Figure size 640x480 with 1 Axes>"
      ]
     },
     "metadata": {},
     "output_type": "display_data"
    }
   ],
   "source": [
    "for col in numerical_cols:\n",
    "    num_summary(df, col, True)"
   ]
  },
  {
   "cell_type": "code",
   "execution_count": 31,
   "metadata": {},
   "outputs": [],
   "source": [
    "def target_summary_with_numerical_data(dataframe, target, numerical_col):\n",
    "    \"\"\"\n",
    "    It gives the summary of specified numerical column name according to target column.\n",
    "\n",
    "    Args:\n",
    "        dataframe (dataframe): The dataframe from which variables names are to be retrieved.\n",
    "        target (string): The target column name are to be retrieved.\n",
    "        numerical_col (string): The numerical column names are to be retrieved.\n",
    "    \"\"\"\n",
    "    print(dataframe.groupby(target).agg({numerical_col: \"mean\"}), end=\"\\n\\n\\n\")"
   ]
  },
  {
   "cell_type": "code",
   "execution_count": 32,
   "metadata": {},
   "outputs": [
    {
     "name": "stdout",
     "output_type": "stream",
     "text": [
      "                  num_passengers\n",
      "booking_complete                \n",
      "0                       1.510512\n",
      "1                       1.566395\n",
      "\n",
      "\n",
      "                  purchase_lead\n",
      "booking_complete               \n",
      "0                     80.767556\n",
      "1                     75.488901\n",
      "\n",
      "\n",
      "                  length_of_stay\n",
      "booking_complete                \n",
      "0                      19.898688\n",
      "1                      16.185411\n",
      "\n",
      "\n",
      "                  flight_hour\n",
      "booking_complete             \n",
      "0                    9.050162\n",
      "1                    9.158331\n",
      "\n",
      "\n",
      "                  flight_duration\n",
      "booking_complete                 \n",
      "0                        7.344266\n",
      "1                        6.898258\n",
      "\n",
      "\n"
     ]
    }
   ],
   "source": [
    "for col in numerical_cols:\n",
    "    target_summary_with_numerical_data(df, target ,col)"
   ]
  },
  {
   "cell_type": "markdown",
   "metadata": {},
   "source": [
    "It appears that customers who complete their bookings (booking_complete = 1) differ slightly in several numerical features compared to those who do not (booking_complete = 0):\n",
    "\n",
    "• For num_passengers, the average is marginally higher (≈1.65 vs. ≈1.58), indicating that successful bookings tend to have slightly more passengers.\n",
    "\n",
    "• In purchase_lead, the average for completed bookings is lower (≈80.17 days vs. ≈85.78 days), which may suggest that customers who book closer to the travel date are more likely to complete their booking.\n",
    "\n",
    "• For length_of_stay, completed bookings show a shorter average duration (≈19.62 days vs. ≈23.65 days), implying shorter trips might be associated with higher booking completion.\n",
    "\n",
    "• Flight_hour averages are very similar with a slight increase for completed bookings, which might not be practically significant.\n",
    "\n",
    "• Lastly, flight_duration is shorter for completed bookings (≈6.90 hours vs. ≈7.34 hours), possibly indicating that shorter flights encourage booking finalization.\n",
    "\n",
    "These differences, while relatively small, could be useful when selecting variables or thresholds during feature engineering for the predictive model."
   ]
  },
  {
   "cell_type": "markdown",
   "metadata": {},
   "source": [
    "## Feature Engineering"
   ]
  },
  {
   "cell_type": "code",
   "execution_count": 33,
   "metadata": {},
   "outputs": [
    {
     "data": {
      "text/plain": [
       "['wants_extra_baggage', 'wants_preferred_seat', 'wants_in_flight_meals']"
      ]
     },
     "execution_count": 33,
     "metadata": {},
     "output_type": "execute_result"
    }
   ],
   "source": [
    "# Chi-Square Test for nominal_cols\n",
    "\n",
    "nominal_cols"
   ]
  },
  {
   "cell_type": "code",
   "execution_count": 34,
   "metadata": {},
   "outputs": [],
   "source": [
    "def chi2_by_hand(df, col1, col2):\n",
    "    #---create the contingency table---\n",
    "    df_cont = pd.crosstab(index = df[col1], columns = df[col2])\n",
    "    display(df_cont)\n",
    "    #---calculate degree of freedom---\n",
    "    degree_f = (df_cont.shape[0]-1) * (df_cont.shape[1]-1)\n",
    "    #---sum up the totals for row and columns---\n",
    "    df_cont.loc[:,'Total']= df_cont.sum(axis=1)\n",
    "    df_cont.loc['Total']= df_cont.sum()\n",
    "\n",
    "    #---create the expected value dataframe---\n",
    "    df_exp = df_cont.copy()\n",
    "    df_exp.iloc[:,:] = np.multiply.outer(\n",
    "        df_cont.sum(1).values,df_cont.sum().values) / df_cont.sum().sum()\n",
    "\n",
    "    # calculate chi-square values\n",
    "    df_chi2 = ((df_cont - df_exp)**2) / df_exp\n",
    "    df_chi2.loc[:,'Total']= df_chi2.sum(axis=1)\n",
    "    df_chi2.loc['Total']= df_chi2.sum()\n",
    "\n",
    "    #---get chi-square score---\n",
    "    chi_square_score = df_chi2.iloc[:-1,:-1].sum().sum()\n",
    "\n",
    "    #---calculate the p-value---\n",
    "    from scipy import stats\n",
    "    p = stats.distributions.chi2.sf(chi_square_score, degree_f)\n",
    "\n",
    "    return chi_square_score, degree_f, p"
   ]
  },
  {
   "cell_type": "code",
   "execution_count": 35,
   "metadata": {},
   "outputs": [
    {
     "data": {
      "text/html": [
       "<div>\n",
       "<style scoped>\n",
       "    .dataframe tbody tr th:only-of-type {\n",
       "        vertical-align: middle;\n",
       "    }\n",
       "\n",
       "    .dataframe tbody tr th {\n",
       "        vertical-align: top;\n",
       "    }\n",
       "\n",
       "    .dataframe thead th {\n",
       "        text-align: right;\n",
       "    }\n",
       "</style>\n",
       "<table border=\"1\" class=\"dataframe\">\n",
       "  <thead>\n",
       "    <tr style=\"text-align: right;\">\n",
       "      <th>booking_complete</th>\n",
       "      <th>0</th>\n",
       "      <th>1</th>\n",
       "    </tr>\n",
       "    <tr>\n",
       "      <th>wants_extra_baggage</th>\n",
       "      <th></th>\n",
       "      <th></th>\n",
       "    </tr>\n",
       "  </thead>\n",
       "  <tbody>\n",
       "    <tr>\n",
       "      <th>0</th>\n",
       "      <td>14656</td>\n",
       "      <td>1905</td>\n",
       "    </tr>\n",
       "    <tr>\n",
       "      <th>1</th>\n",
       "      <td>27866</td>\n",
       "      <td>5573</td>\n",
       "    </tr>\n",
       "  </tbody>\n",
       "</table>\n",
       "</div>"
      ],
      "text/plain": [
       "booking_complete         0     1\n",
       "wants_extra_baggage             \n",
       "0                    14656  1905\n",
       "1                    27866  5573"
      ]
     },
     "metadata": {},
     "output_type": "display_data"
    },
    {
     "name": "stdout",
     "output_type": "stream",
     "text": [
      "Chi2_score: 232.14282763583805, Degrees of freedom: 1, p-value: 2.0325293382292343e-52\n"
     ]
    },
    {
     "name": "stderr",
     "output_type": "stream",
     "text": [
      "C:\\Users\\Eda AYDIN\\AppData\\Local\\Temp\\ipykernel_37068\\2650072158.py:13: FutureWarning: Setting an item of incompatible dtype is deprecated and will raise in a future error of pandas. Value '[14084.13684 28437.86316 42522.     ]' has dtype incompatible with int64, please explicitly cast to a compatible dtype first.\n",
      "  df_exp.iloc[:,:] = np.multiply.outer(\n",
      "C:\\Users\\Eda AYDIN\\AppData\\Local\\Temp\\ipykernel_37068\\2650072158.py:13: FutureWarning: Setting an item of incompatible dtype is deprecated and will raise in a future error of pandas. Value '[2476.86316 5001.13684 7478.     ]' has dtype incompatible with int64, please explicitly cast to a compatible dtype first.\n",
      "  df_exp.iloc[:,:] = np.multiply.outer(\n"
     ]
    },
    {
     "data": {
      "text/html": [
       "<div>\n",
       "<style scoped>\n",
       "    .dataframe tbody tr th:only-of-type {\n",
       "        vertical-align: middle;\n",
       "    }\n",
       "\n",
       "    .dataframe tbody tr th {\n",
       "        vertical-align: top;\n",
       "    }\n",
       "\n",
       "    .dataframe thead th {\n",
       "        text-align: right;\n",
       "    }\n",
       "</style>\n",
       "<table border=\"1\" class=\"dataframe\">\n",
       "  <thead>\n",
       "    <tr style=\"text-align: right;\">\n",
       "      <th>booking_complete</th>\n",
       "      <th>0</th>\n",
       "      <th>1</th>\n",
       "    </tr>\n",
       "    <tr>\n",
       "      <th>wants_preferred_seat</th>\n",
       "      <th></th>\n",
       "      <th></th>\n",
       "    </tr>\n",
       "  </thead>\n",
       "  <tbody>\n",
       "    <tr>\n",
       "      <th>0</th>\n",
       "      <td>30303</td>\n",
       "      <td>4849</td>\n",
       "    </tr>\n",
       "    <tr>\n",
       "      <th>1</th>\n",
       "      <td>12219</td>\n",
       "      <td>2629</td>\n",
       "    </tr>\n",
       "  </tbody>\n",
       "</table>\n",
       "</div>"
      ],
      "text/plain": [
       "booking_complete          0     1\n",
       "wants_preferred_seat             \n",
       "0                     30303  4849\n",
       "1                     12219  2629"
      ]
     },
     "metadata": {},
     "output_type": "display_data"
    },
    {
     "name": "stdout",
     "output_type": "stream",
     "text": [
      "Chi2_score: 125.58046440101637, Degrees of freedom: 1, p-value: 3.7987056771490804e-29\n"
     ]
    },
    {
     "name": "stderr",
     "output_type": "stream",
     "text": [
      "C:\\Users\\Eda AYDIN\\AppData\\Local\\Temp\\ipykernel_37068\\2650072158.py:13: FutureWarning: Setting an item of incompatible dtype is deprecated and will raise in a future error of pandas. Value '[29894.66688 12627.33312 42522.     ]' has dtype incompatible with int64, please explicitly cast to a compatible dtype first.\n",
      "  df_exp.iloc[:,:] = np.multiply.outer(\n",
      "C:\\Users\\Eda AYDIN\\AppData\\Local\\Temp\\ipykernel_37068\\2650072158.py:13: FutureWarning: Setting an item of incompatible dtype is deprecated and will raise in a future error of pandas. Value '[5257.33312 2220.66688 7478.     ]' has dtype incompatible with int64, please explicitly cast to a compatible dtype first.\n",
      "  df_exp.iloc[:,:] = np.multiply.outer(\n"
     ]
    },
    {
     "data": {
      "text/html": [
       "<div>\n",
       "<style scoped>\n",
       "    .dataframe tbody tr th:only-of-type {\n",
       "        vertical-align: middle;\n",
       "    }\n",
       "\n",
       "    .dataframe tbody tr th {\n",
       "        vertical-align: top;\n",
       "    }\n",
       "\n",
       "    .dataframe thead th {\n",
       "        text-align: right;\n",
       "    }\n",
       "</style>\n",
       "<table border=\"1\" class=\"dataframe\">\n",
       "  <thead>\n",
       "    <tr style=\"text-align: right;\">\n",
       "      <th>booking_complete</th>\n",
       "      <th>0</th>\n",
       "      <th>1</th>\n",
       "    </tr>\n",
       "    <tr>\n",
       "      <th>wants_in_flight_meals</th>\n",
       "      <th></th>\n",
       "      <th></th>\n",
       "    </tr>\n",
       "  </thead>\n",
       "  <tbody>\n",
       "    <tr>\n",
       "      <th>0</th>\n",
       "      <td>24593</td>\n",
       "      <td>4050</td>\n",
       "    </tr>\n",
       "    <tr>\n",
       "      <th>1</th>\n",
       "      <td>17929</td>\n",
       "      <td>3428</td>\n",
       "    </tr>\n",
       "  </tbody>\n",
       "</table>\n",
       "</div>"
      ],
      "text/plain": [
       "booking_complete           0     1\n",
       "wants_in_flight_meals             \n",
       "0                      24593  4050\n",
       "1                      17929  3428"
      ]
     },
     "metadata": {},
     "output_type": "display_data"
    },
    {
     "name": "stdout",
     "output_type": "stream",
     "text": [
      "Chi2_score: 35.14115415172873, Degrees of freedom: 1, p-value: 3.0665119847853264e-09\n"
     ]
    },
    {
     "name": "stderr",
     "output_type": "stream",
     "text": [
      "C:\\Users\\Eda AYDIN\\AppData\\Local\\Temp\\ipykernel_37068\\2650072158.py:13: FutureWarning: Setting an item of incompatible dtype is deprecated and will raise in a future error of pandas. Value '[24359.15292 18162.84708 42522.     ]' has dtype incompatible with int64, please explicitly cast to a compatible dtype first.\n",
      "  df_exp.iloc[:,:] = np.multiply.outer(\n",
      "C:\\Users\\Eda AYDIN\\AppData\\Local\\Temp\\ipykernel_37068\\2650072158.py:13: FutureWarning: Setting an item of incompatible dtype is deprecated and will raise in a future error of pandas. Value '[4283.84708 3194.15292 7478.     ]' has dtype incompatible with int64, please explicitly cast to a compatible dtype first.\n",
      "  df_exp.iloc[:,:] = np.multiply.outer(\n"
     ]
    }
   ],
   "source": [
    "for col in nominal_cols:\n",
    "    chi_score, degree_f, p = chi2_by_hand(df,col,target)\n",
    "    print(f'Chi2_score: {chi_score}, Degrees of freedom: {degree_f}, p-value: {p}')"
   ]
  },
  {
   "cell_type": "code",
   "execution_count": 36,
   "metadata": {},
   "outputs": [],
   "source": [
    "# The above contingency tables and Chi-Square tests assess the association between extra service features \n",
    "# (wants_extra_baggage, wants_preferred_seat, wants_in_flight_meals) and the target variable booking_complete.\n",
    "#\n",
    "# Analysis:\n",
    "#\n",
    "# 1. wants_extra_baggage:\n",
    "#    - Table:\n",
    "#          booking_complete    0      1\n",
    "#          0              14656   1905\n",
    "#          1              27866   5573\n",
    "#    - Chi-square = 232.14, df = 1, p-value ≈ 2.03e-52.\n",
    "#    - Interpretation: The extremely significant p-value indicates a very strong association between \n",
    "#      extra baggage requests and booking completion.\n",
    "#\n",
    "# 2. wants_preferred_seat:\n",
    "#    - Table:\n",
    "#          booking_complete    0      1\n",
    "#          0              30303   4849\n",
    "#          1              12219   2629\n",
    "#    - Chi-square = 125.58, df = 1, p-value ≈ 3.80e-29.\n",
    "#    - Interpretation: This result also suggests a strong relationship between preferred seat requests \n",
    "#      and the completion of bookings.\n",
    "#\n",
    "# 3. wants_in_flight_meals:\n",
    "#    - Table:\n",
    "#          booking_complete    0      1\n",
    "#          0              24593   4050\n",
    "#          1              17929   3428\n",
    "#    - Chi-square = 35.14, df = 1, p-value ≈ 3.07e-09.\n",
    "#    - Interpretation: Although the strength of association is lower compared to the other two features, \n",
    "#      the significant p-value still indicates a statistically meaningful relationship.\n",
    "#\n",
    "# Overall, all three extra service features are significantly associated with booking completion, \n",
    "# which suggests that these features might be important predictors in your predictive modeling task."
   ]
  },
  {
   "cell_type": "code",
   "execution_count": 37,
   "metadata": {},
   "outputs": [
    {
     "name": "stdout",
     "output_type": "stream",
     "text": [
      "                     df       sum_sq   mean_sq          F        PR(>F)\n",
      "num_passengers      1.0     4.317956  4.317956  33.970092  5.630837e-09\n",
      "Residual        49998.0  6355.272364  0.127111        NaN           NaN\n",
      "\n",
      "\n",
      "                    df       sum_sq   mean_sq          F        PR(>F)\n",
      "purchase_lead      1.0     3.818453  3.818453  30.038054  4.256914e-08\n",
      "Residual       49998.0  6355.771867  0.127121        NaN           NaN\n",
      "\n",
      "\n",
      "                     df      sum_sq    mean_sq          F        PR(>F)\n",
      "length_of_stay      1.0    33.22591  33.225910  262.58826  6.617524e-59\n",
      "Residual        49998.0  6326.36441   0.126532        NaN           NaN\n",
      "\n",
      "\n",
      "                  df       sum_sq   mean_sq         F    PR(>F)\n",
      "flight_hour      1.0     0.323057  0.323057  2.539951  0.111005\n",
      "Residual     49998.0  6359.267263  0.127190       NaN       NaN\n",
      "\n",
      "\n",
      "                      df       sum_sq    mean_sq           F         PR(>F)\n",
      "flight_duration      1.0    71.815578  71.815578  571.050239  1.683145e-125\n",
      "Residual         49998.0  6287.774742   0.125761         NaN            NaN\n",
      "\n",
      "\n"
     ]
    }
   ],
   "source": [
    "# ANOVA Test for numerical_cols\n",
    "\n",
    "import statsmodels.api as sm\n",
    "from statsmodels.formula.api import ols\n",
    "\n",
    "for col in numerical_cols:\n",
    "    model = ols(target + '~' + col, data = df).fit() #Oridnary least square method\n",
    "    result_anova = sm.stats.anova_lm(model) # ANOVA Test\n",
    "    print(result_anova)\n",
    "    print(\"\\n\")"
   ]
  },
  {
   "cell_type": "markdown",
   "metadata": {},
   "source": [
    "The ANOVA results suggest that:\n",
    "\n",
    "• For num_passengers: F = 29.10 with a p-value ≈ 6.92e-08, indicating a statistically significant relationship with booking completion.\n",
    "\n",
    "• For purchase_lead: F = 24.50 with a p-value ≈ 7.46e-07, showing a significant effect on the target.\n",
    "\n",
    "• For length_of_stay: F = 90.08 with a p-value ≈ 2.38e-21, a strong indicator of a relationship.\n",
    "\n",
    "• For flight_hour: F = 2.54 with a p-value = 0.111, which is not significant at common levels.\n",
    "\n",
    "• For flight_duration: F = 571.05 with a p-value ≈ 1.68e-125, indicating a very strong association.\n",
    "\n",
    "In summary, except for flight_hour, all these numerical features demonstrate a statistically significant difference in means between the target groups, with flight_duration being the most powerful predictor."
   ]
  },
  {
   "cell_type": "markdown",
   "metadata": {},
   "source": [
    "## Feature Engineering"
   ]
  },
  {
   "cell_type": "code",
   "execution_count": 38,
   "metadata": {},
   "outputs": [],
   "source": [
    "# Data Transformation - Encoding\n",
    "\n",
    "def one_hot_encoder(dataframe, categorical_cols, drop_first=False):\n",
    "    \"\"\"\n",
    "    Apply One Hot Encoding to all specified categorical columns.\n",
    "\n",
    "    Args:\n",
    "        dataframe (dataframe): The dataframe from which variables names are to be retrieved.\n",
    "        categorical_col (string): The numerical column names are to be retrieved.\n",
    "        drop_first (bool, optional): Remove the first column after one hot encoding process to prevent overfitting. Defaults to False.\n",
    "\n",
    "    Returns:\n",
    "        dataframe: Return the new dataframe\n",
    "    \"\"\"\n",
    "    dataframe = pd.get_dummies(dataframe, columns=categorical_cols, drop_first=drop_first)\n",
    "    return dataframe"
   ]
  },
  {
   "cell_type": "code",
   "execution_count": 39,
   "metadata": {},
   "outputs": [],
   "source": [
    "one_hot_encoding_cols = [col for col in categorical_cols if 10 >= df[col].nunique() > 2]"
   ]
  },
  {
   "cell_type": "code",
   "execution_count": 40,
   "metadata": {},
   "outputs": [
    {
     "data": {
      "text/plain": [
       "['trip_type', 'flight_day']"
      ]
     },
     "execution_count": 40,
     "metadata": {},
     "output_type": "execute_result"
    }
   ],
   "source": [
    "one_hot_encoding_cols"
   ]
  },
  {
   "cell_type": "code",
   "execution_count": 41,
   "metadata": {},
   "outputs": [],
   "source": [
    "df = one_hot_encoder(df, one_hot_encoding_cols,drop_first=False)"
   ]
  },
  {
   "cell_type": "code",
   "execution_count": 42,
   "metadata": {},
   "outputs": [],
   "source": [
    "# Label Encoding\n",
    "from sklearn import preprocessing\n",
    "\n",
    "\n",
    "def label_encoder(dataframe, binary_col):\n",
    "    \"\"\"_summary_\n",
    "\n",
    "    Args:\n",
    "        dataframe (dataframe): The dataframe from which variables names are to be retrieved.\n",
    "        binary_col (string): The binary column names are to be retrieved.\n",
    "\n",
    "    Returns:\n",
    "        _type_: _description_\n",
    "    \"\"\"\n",
    "    labelencoder = preprocessing.LabelEncoder()\n",
    "    dataframe[binary_col] = labelencoder.fit_transform(dataframe[binary_col])\n",
    "    return dataframe"
   ]
  },
  {
   "cell_type": "code",
   "execution_count": 43,
   "metadata": {},
   "outputs": [],
   "source": [
    "binary_cols = [col for col in df.columns if df[col].dtypes == \"O\" and len(df[col].unique()) == 2]\n",
    "\n",
    "for col in binary_cols:\n",
    "    df = label_encoder(df, col)"
   ]
  },
  {
   "cell_type": "code",
   "execution_count": 44,
   "metadata": {},
   "outputs": [
    {
     "data": {
      "text/plain": [
       "['sales_channel']"
      ]
     },
     "execution_count": 44,
     "metadata": {},
     "output_type": "execute_result"
    }
   ],
   "source": [
    "binary_cols"
   ]
  },
  {
   "cell_type": "code",
   "execution_count": 45,
   "metadata": {},
   "outputs": [
    {
     "data": {
      "text/plain": [
       "Index(['num_passengers', 'sales_channel', 'purchase_lead', 'length_of_stay',\n",
       "       'flight_hour', 'route', 'booking_origin', 'wants_extra_baggage',\n",
       "       'wants_preferred_seat', 'wants_in_flight_meals', 'flight_duration',\n",
       "       'booking_complete', 'trip_type_CircleTrip', 'trip_type_OneWay',\n",
       "       'trip_type_RoundTrip', 'flight_day_Fri', 'flight_day_Mon',\n",
       "       'flight_day_Sat', 'flight_day_Sun', 'flight_day_Thu', 'flight_day_Tue',\n",
       "       'flight_day_Wed'],\n",
       "      dtype='object')"
      ]
     },
     "execution_count": 45,
     "metadata": {},
     "output_type": "execute_result"
    }
   ],
   "source": [
    "df.columns"
   ]
  },
  {
   "cell_type": "code",
   "execution_count": 46,
   "metadata": {},
   "outputs": [
    {
     "name": "stdout",
     "output_type": "stream",
     "text": [
      "Note: you may need to restart the kernel to use updated packages.\n"
     ]
    }
   ],
   "source": [
    "%pip install category_encoders -q"
   ]
  },
  {
   "cell_type": "code",
   "execution_count": 47,
   "metadata": {},
   "outputs": [
    {
     "data": {
      "text/plain": [
       "Index(['num_passengers', 'sales_channel', 'purchase_lead', 'length_of_stay',\n",
       "       'flight_hour', 'route', 'booking_origin', 'wants_extra_baggage',\n",
       "       'wants_preferred_seat', 'wants_in_flight_meals', 'flight_duration',\n",
       "       'booking_complete', 'trip_type_CircleTrip', 'trip_type_OneWay',\n",
       "       'trip_type_RoundTrip', 'flight_day_Fri', 'flight_day_Mon',\n",
       "       'flight_day_Sat', 'flight_day_Sun', 'flight_day_Thu', 'flight_day_Tue',\n",
       "       'flight_day_Wed'],\n",
       "      dtype='object')"
      ]
     },
     "execution_count": 47,
     "metadata": {},
     "output_type": "execute_result"
    }
   ],
   "source": [
    "df.columns"
   ]
  },
  {
   "cell_type": "code",
   "execution_count": 48,
   "metadata": {},
   "outputs": [],
   "source": [
    "# Target Encoding (for high-cardinality feature like route, booking_origin)\n",
    "import category_encoders as ce\n",
    "from sklearn.model_selection import KFold\n",
    "\n",
    "kf = KFold(n_splits=5, shuffle=True, random_state=42)\n",
    "\n",
    "for col in cardinal_cols:\n",
    "    target_enc = ce.TargetEncoder(cols=col)\n",
    "    df[col] = target_enc.fit_transform(df[col], df[target])\n"
   ]
  },
  {
   "cell_type": "code",
   "execution_count": 49,
   "metadata": {},
   "outputs": [
    {
     "data": {
      "text/html": [
       "<div>\n",
       "<style scoped>\n",
       "    .dataframe tbody tr th:only-of-type {\n",
       "        vertical-align: middle;\n",
       "    }\n",
       "\n",
       "    .dataframe tbody tr th {\n",
       "        vertical-align: top;\n",
       "    }\n",
       "\n",
       "    .dataframe thead th {\n",
       "        text-align: right;\n",
       "    }\n",
       "</style>\n",
       "<table border=\"1\" class=\"dataframe\">\n",
       "  <thead>\n",
       "    <tr style=\"text-align: right;\">\n",
       "      <th></th>\n",
       "      <th>num_passengers</th>\n",
       "      <th>sales_channel</th>\n",
       "      <th>purchase_lead</th>\n",
       "      <th>length_of_stay</th>\n",
       "      <th>flight_hour</th>\n",
       "      <th>route</th>\n",
       "      <th>booking_origin</th>\n",
       "      <th>wants_extra_baggage</th>\n",
       "      <th>wants_preferred_seat</th>\n",
       "      <th>wants_in_flight_meals</th>\n",
       "      <th>...</th>\n",
       "      <th>trip_type_CircleTrip</th>\n",
       "      <th>trip_type_OneWay</th>\n",
       "      <th>trip_type_RoundTrip</th>\n",
       "      <th>flight_day_Fri</th>\n",
       "      <th>flight_day_Mon</th>\n",
       "      <th>flight_day_Sat</th>\n",
       "      <th>flight_day_Sun</th>\n",
       "      <th>flight_day_Thu</th>\n",
       "      <th>flight_day_Tue</th>\n",
       "      <th>flight_day_Wed</th>\n",
       "    </tr>\n",
       "  </thead>\n",
       "  <tbody>\n",
       "    <tr>\n",
       "      <th>0</th>\n",
       "      <td>2.0</td>\n",
       "      <td>0</td>\n",
       "      <td>256</td>\n",
       "      <td>19.0</td>\n",
       "      <td>7</td>\n",
       "      <td>0.07478</td>\n",
       "      <td>0.050279</td>\n",
       "      <td>1</td>\n",
       "      <td>0</td>\n",
       "      <td>0</td>\n",
       "      <td>...</td>\n",
       "      <td>False</td>\n",
       "      <td>False</td>\n",
       "      <td>True</td>\n",
       "      <td>False</td>\n",
       "      <td>False</td>\n",
       "      <td>True</td>\n",
       "      <td>False</td>\n",
       "      <td>False</td>\n",
       "      <td>False</td>\n",
       "      <td>False</td>\n",
       "    </tr>\n",
       "    <tr>\n",
       "      <th>1</th>\n",
       "      <td>1.0</td>\n",
       "      <td>0</td>\n",
       "      <td>112</td>\n",
       "      <td>20.0</td>\n",
       "      <td>3</td>\n",
       "      <td>0.07478</td>\n",
       "      <td>0.050279</td>\n",
       "      <td>0</td>\n",
       "      <td>0</td>\n",
       "      <td>0</td>\n",
       "      <td>...</td>\n",
       "      <td>False</td>\n",
       "      <td>False</td>\n",
       "      <td>True</td>\n",
       "      <td>False</td>\n",
       "      <td>False</td>\n",
       "      <td>True</td>\n",
       "      <td>False</td>\n",
       "      <td>False</td>\n",
       "      <td>False</td>\n",
       "      <td>False</td>\n",
       "    </tr>\n",
       "    <tr>\n",
       "      <th>2</th>\n",
       "      <td>2.0</td>\n",
       "      <td>0</td>\n",
       "      <td>243</td>\n",
       "      <td>22.0</td>\n",
       "      <td>17</td>\n",
       "      <td>0.07478</td>\n",
       "      <td>0.103150</td>\n",
       "      <td>1</td>\n",
       "      <td>1</td>\n",
       "      <td>0</td>\n",
       "      <td>...</td>\n",
       "      <td>False</td>\n",
       "      <td>False</td>\n",
       "      <td>True</td>\n",
       "      <td>False</td>\n",
       "      <td>False</td>\n",
       "      <td>False</td>\n",
       "      <td>False</td>\n",
       "      <td>False</td>\n",
       "      <td>False</td>\n",
       "      <td>True</td>\n",
       "    </tr>\n",
       "    <tr>\n",
       "      <th>3</th>\n",
       "      <td>1.0</td>\n",
       "      <td>0</td>\n",
       "      <td>96</td>\n",
       "      <td>31.0</td>\n",
       "      <td>4</td>\n",
       "      <td>0.07478</td>\n",
       "      <td>0.050279</td>\n",
       "      <td>0</td>\n",
       "      <td>0</td>\n",
       "      <td>1</td>\n",
       "      <td>...</td>\n",
       "      <td>False</td>\n",
       "      <td>False</td>\n",
       "      <td>True</td>\n",
       "      <td>False</td>\n",
       "      <td>False</td>\n",
       "      <td>True</td>\n",
       "      <td>False</td>\n",
       "      <td>False</td>\n",
       "      <td>False</td>\n",
       "      <td>False</td>\n",
       "    </tr>\n",
       "    <tr>\n",
       "      <th>4</th>\n",
       "      <td>2.0</td>\n",
       "      <td>0</td>\n",
       "      <td>68</td>\n",
       "      <td>22.0</td>\n",
       "      <td>15</td>\n",
       "      <td>0.07478</td>\n",
       "      <td>0.103150</td>\n",
       "      <td>1</td>\n",
       "      <td>0</td>\n",
       "      <td>1</td>\n",
       "      <td>...</td>\n",
       "      <td>False</td>\n",
       "      <td>False</td>\n",
       "      <td>True</td>\n",
       "      <td>False</td>\n",
       "      <td>False</td>\n",
       "      <td>False</td>\n",
       "      <td>False</td>\n",
       "      <td>False</td>\n",
       "      <td>False</td>\n",
       "      <td>True</td>\n",
       "    </tr>\n",
       "  </tbody>\n",
       "</table>\n",
       "<p>5 rows × 22 columns</p>\n",
       "</div>"
      ],
      "text/plain": [
       "   num_passengers  sales_channel  purchase_lead  length_of_stay  flight_hour  \\\n",
       "0             2.0              0            256            19.0            7   \n",
       "1             1.0              0            112            20.0            3   \n",
       "2             2.0              0            243            22.0           17   \n",
       "3             1.0              0             96            31.0            4   \n",
       "4             2.0              0             68            22.0           15   \n",
       "\n",
       "     route  booking_origin  wants_extra_baggage  wants_preferred_seat  \\\n",
       "0  0.07478        0.050279                    1                     0   \n",
       "1  0.07478        0.050279                    0                     0   \n",
       "2  0.07478        0.103150                    1                     1   \n",
       "3  0.07478        0.050279                    0                     0   \n",
       "4  0.07478        0.103150                    1                     0   \n",
       "\n",
       "   wants_in_flight_meals  ...  trip_type_CircleTrip  trip_type_OneWay  \\\n",
       "0                      0  ...                 False             False   \n",
       "1                      0  ...                 False             False   \n",
       "2                      0  ...                 False             False   \n",
       "3                      1  ...                 False             False   \n",
       "4                      1  ...                 False             False   \n",
       "\n",
       "   trip_type_RoundTrip  flight_day_Fri  flight_day_Mon  flight_day_Sat  \\\n",
       "0                 True           False           False            True   \n",
       "1                 True           False           False            True   \n",
       "2                 True           False           False           False   \n",
       "3                 True           False           False            True   \n",
       "4                 True           False           False           False   \n",
       "\n",
       "   flight_day_Sun  flight_day_Thu  flight_day_Tue  flight_day_Wed  \n",
       "0           False           False           False           False  \n",
       "1           False           False           False           False  \n",
       "2           False           False           False            True  \n",
       "3           False           False           False           False  \n",
       "4           False           False           False            True  \n",
       "\n",
       "[5 rows x 22 columns]"
      ]
     },
     "execution_count": 49,
     "metadata": {},
     "output_type": "execute_result"
    }
   ],
   "source": [
    "df.head()"
   ]
  },
  {
   "cell_type": "markdown",
   "metadata": {},
   "source": [
    "## Modeling"
   ]
  },
  {
   "cell_type": "code",
   "execution_count": 50,
   "metadata": {},
   "outputs": [],
   "source": [
    "X = df.drop(target, axis=1)\n",
    "y = df[target]"
   ]
  },
  {
   "cell_type": "code",
   "execution_count": 51,
   "metadata": {},
   "outputs": [
    {
     "data": {
      "text/html": [
       "<div>\n",
       "<style scoped>\n",
       "    .dataframe tbody tr th:only-of-type {\n",
       "        vertical-align: middle;\n",
       "    }\n",
       "\n",
       "    .dataframe tbody tr th {\n",
       "        vertical-align: top;\n",
       "    }\n",
       "\n",
       "    .dataframe thead th {\n",
       "        text-align: right;\n",
       "    }\n",
       "</style>\n",
       "<table border=\"1\" class=\"dataframe\">\n",
       "  <thead>\n",
       "    <tr style=\"text-align: right;\">\n",
       "      <th></th>\n",
       "      <th>num_passengers</th>\n",
       "      <th>sales_channel</th>\n",
       "      <th>purchase_lead</th>\n",
       "      <th>length_of_stay</th>\n",
       "      <th>flight_hour</th>\n",
       "      <th>route</th>\n",
       "      <th>booking_origin</th>\n",
       "      <th>wants_extra_baggage</th>\n",
       "      <th>wants_preferred_seat</th>\n",
       "      <th>wants_in_flight_meals</th>\n",
       "      <th>...</th>\n",
       "      <th>trip_type_CircleTrip</th>\n",
       "      <th>trip_type_OneWay</th>\n",
       "      <th>trip_type_RoundTrip</th>\n",
       "      <th>flight_day_Fri</th>\n",
       "      <th>flight_day_Mon</th>\n",
       "      <th>flight_day_Sat</th>\n",
       "      <th>flight_day_Sun</th>\n",
       "      <th>flight_day_Thu</th>\n",
       "      <th>flight_day_Tue</th>\n",
       "      <th>flight_day_Wed</th>\n",
       "    </tr>\n",
       "  </thead>\n",
       "  <tbody>\n",
       "    <tr>\n",
       "      <th>0</th>\n",
       "      <td>2.0</td>\n",
       "      <td>0</td>\n",
       "      <td>256</td>\n",
       "      <td>19.0</td>\n",
       "      <td>7</td>\n",
       "      <td>0.07478</td>\n",
       "      <td>0.050279</td>\n",
       "      <td>1</td>\n",
       "      <td>0</td>\n",
       "      <td>0</td>\n",
       "      <td>...</td>\n",
       "      <td>False</td>\n",
       "      <td>False</td>\n",
       "      <td>True</td>\n",
       "      <td>False</td>\n",
       "      <td>False</td>\n",
       "      <td>True</td>\n",
       "      <td>False</td>\n",
       "      <td>False</td>\n",
       "      <td>False</td>\n",
       "      <td>False</td>\n",
       "    </tr>\n",
       "    <tr>\n",
       "      <th>1</th>\n",
       "      <td>1.0</td>\n",
       "      <td>0</td>\n",
       "      <td>112</td>\n",
       "      <td>20.0</td>\n",
       "      <td>3</td>\n",
       "      <td>0.07478</td>\n",
       "      <td>0.050279</td>\n",
       "      <td>0</td>\n",
       "      <td>0</td>\n",
       "      <td>0</td>\n",
       "      <td>...</td>\n",
       "      <td>False</td>\n",
       "      <td>False</td>\n",
       "      <td>True</td>\n",
       "      <td>False</td>\n",
       "      <td>False</td>\n",
       "      <td>True</td>\n",
       "      <td>False</td>\n",
       "      <td>False</td>\n",
       "      <td>False</td>\n",
       "      <td>False</td>\n",
       "    </tr>\n",
       "    <tr>\n",
       "      <th>2</th>\n",
       "      <td>2.0</td>\n",
       "      <td>0</td>\n",
       "      <td>243</td>\n",
       "      <td>22.0</td>\n",
       "      <td>17</td>\n",
       "      <td>0.07478</td>\n",
       "      <td>0.103150</td>\n",
       "      <td>1</td>\n",
       "      <td>1</td>\n",
       "      <td>0</td>\n",
       "      <td>...</td>\n",
       "      <td>False</td>\n",
       "      <td>False</td>\n",
       "      <td>True</td>\n",
       "      <td>False</td>\n",
       "      <td>False</td>\n",
       "      <td>False</td>\n",
       "      <td>False</td>\n",
       "      <td>False</td>\n",
       "      <td>False</td>\n",
       "      <td>True</td>\n",
       "    </tr>\n",
       "    <tr>\n",
       "      <th>3</th>\n",
       "      <td>1.0</td>\n",
       "      <td>0</td>\n",
       "      <td>96</td>\n",
       "      <td>31.0</td>\n",
       "      <td>4</td>\n",
       "      <td>0.07478</td>\n",
       "      <td>0.050279</td>\n",
       "      <td>0</td>\n",
       "      <td>0</td>\n",
       "      <td>1</td>\n",
       "      <td>...</td>\n",
       "      <td>False</td>\n",
       "      <td>False</td>\n",
       "      <td>True</td>\n",
       "      <td>False</td>\n",
       "      <td>False</td>\n",
       "      <td>True</td>\n",
       "      <td>False</td>\n",
       "      <td>False</td>\n",
       "      <td>False</td>\n",
       "      <td>False</td>\n",
       "    </tr>\n",
       "    <tr>\n",
       "      <th>4</th>\n",
       "      <td>2.0</td>\n",
       "      <td>0</td>\n",
       "      <td>68</td>\n",
       "      <td>22.0</td>\n",
       "      <td>15</td>\n",
       "      <td>0.07478</td>\n",
       "      <td>0.103150</td>\n",
       "      <td>1</td>\n",
       "      <td>0</td>\n",
       "      <td>1</td>\n",
       "      <td>...</td>\n",
       "      <td>False</td>\n",
       "      <td>False</td>\n",
       "      <td>True</td>\n",
       "      <td>False</td>\n",
       "      <td>False</td>\n",
       "      <td>False</td>\n",
       "      <td>False</td>\n",
       "      <td>False</td>\n",
       "      <td>False</td>\n",
       "      <td>True</td>\n",
       "    </tr>\n",
       "  </tbody>\n",
       "</table>\n",
       "<p>5 rows × 22 columns</p>\n",
       "</div>"
      ],
      "text/plain": [
       "   num_passengers  sales_channel  purchase_lead  length_of_stay  flight_hour  \\\n",
       "0             2.0              0            256            19.0            7   \n",
       "1             1.0              0            112            20.0            3   \n",
       "2             2.0              0            243            22.0           17   \n",
       "3             1.0              0             96            31.0            4   \n",
       "4             2.0              0             68            22.0           15   \n",
       "\n",
       "     route  booking_origin  wants_extra_baggage  wants_preferred_seat  \\\n",
       "0  0.07478        0.050279                    1                     0   \n",
       "1  0.07478        0.050279                    0                     0   \n",
       "2  0.07478        0.103150                    1                     1   \n",
       "3  0.07478        0.050279                    0                     0   \n",
       "4  0.07478        0.103150                    1                     0   \n",
       "\n",
       "   wants_in_flight_meals  ...  trip_type_CircleTrip  trip_type_OneWay  \\\n",
       "0                      0  ...                 False             False   \n",
       "1                      0  ...                 False             False   \n",
       "2                      0  ...                 False             False   \n",
       "3                      1  ...                 False             False   \n",
       "4                      1  ...                 False             False   \n",
       "\n",
       "   trip_type_RoundTrip  flight_day_Fri  flight_day_Mon  flight_day_Sat  \\\n",
       "0                 True           False           False            True   \n",
       "1                 True           False           False            True   \n",
       "2                 True           False           False           False   \n",
       "3                 True           False           False            True   \n",
       "4                 True           False           False           False   \n",
       "\n",
       "   flight_day_Sun  flight_day_Thu  flight_day_Tue  flight_day_Wed  \n",
       "0           False           False           False           False  \n",
       "1           False           False           False           False  \n",
       "2           False           False           False            True  \n",
       "3           False           False           False           False  \n",
       "4           False           False           False            True  \n",
       "\n",
       "[5 rows x 22 columns]"
      ]
     },
     "execution_count": 51,
     "metadata": {},
     "output_type": "execute_result"
    }
   ],
   "source": [
    "df.head()"
   ]
  },
  {
   "cell_type": "code",
   "execution_count": 54,
   "metadata": {},
   "outputs": [
    {
     "name": "stdout",
     "output_type": "stream",
     "text": [
      "Note: you may need to restart the kernel to use updated packages.\n"
     ]
    }
   ],
   "source": [
    "%pip install fast_ml -q"
   ]
  },
  {
   "cell_type": "code",
   "execution_count": 55,
   "metadata": {},
   "outputs": [
    {
     "name": "stdout",
     "output_type": "stream",
     "text": [
      "(35000, 21)\n",
      "(35000,)\n",
      "(7500, 21)\n",
      "(7500,)\n",
      "(7500, 21)\n",
      "(7500,)\n"
     ]
    },
    {
     "data": {
      "text/plain": [
       "(None, None)"
      ]
     },
     "execution_count": 55,
     "metadata": {},
     "output_type": "execute_result"
    }
   ],
   "source": [
    "from fast_ml.model_development import train_valid_test_split\n",
    "\n",
    "X_train,y_train, X_valid, y_valid, X_test, y_test = train_valid_test_split(df, target = target,\n",
    "                                                                           train_size= 0.7,\n",
    "                                                                           valid_size = 0.15,\n",
    "                                                                           test_size = 0.15,\n",
    "                                                                           random_state=0)\n",
    "\n",
    "print(X_train.shape), print(y_train.shape)\n",
    "print(X_valid.shape), print(y_valid.shape)\n",
    "print(X_test.shape), print(y_test.shape)"
   ]
  },
  {
   "cell_type": "code",
   "execution_count": 56,
   "metadata": {},
   "outputs": [
    {
     "data": {
      "text/plain": [
       "booking_complete\n",
       "0    29800\n",
       "1     5200\n",
       "Name: count, dtype: int64"
      ]
     },
     "execution_count": 56,
     "metadata": {},
     "output_type": "execute_result"
    }
   ],
   "source": [
    "y_train.value_counts()"
   ]
  },
  {
   "cell_type": "code",
   "execution_count": 57,
   "metadata": {},
   "outputs": [],
   "source": [
    "from imblearn.over_sampling import SMOTE\n",
    "\n",
    "smote = SMOTE(random_state=42)\n",
    "X_train_smote, y_train_smote = smote.fit_resample(X_train, y_train)"
   ]
  },
  {
   "cell_type": "code",
   "execution_count": 58,
   "metadata": {},
   "outputs": [
    {
     "data": {
      "text/plain": [
       "booking_complete\n",
       "0    29800\n",
       "1    29800\n",
       "Name: count, dtype: int64"
      ]
     },
     "execution_count": 58,
     "metadata": {},
     "output_type": "execute_result"
    }
   ],
   "source": [
    "y_train_smote.value_counts()"
   ]
  },
  {
   "cell_type": "code",
   "execution_count": 59,
   "metadata": {},
   "outputs": [
    {
     "data": {
      "image/png": "[encoded data removed]",
      "text/plain": [
       "<Figure size 1200x500 with 2 Axes>"
      ]
     },
     "metadata": {},
     "output_type": "display_data"
    }
   ],
   "source": [
    "histogram(X_train_smote,y_train_smote)"
   ]
  },
  {
   "cell_type": "code",
   "execution_count": 60,
   "metadata": {},
   "outputs": [
    {
     "name": "stdout",
     "output_type": "stream",
     "text": [
      "(59600, 21)\n",
      "(59600,)\n",
      "(7500, 21)\n",
      "(7500,)\n",
      "(7500, 21)\n",
      "(7500,)\n"
     ]
    },
    {
     "data": {
      "text/plain": [
       "(None, None)"
      ]
     },
     "execution_count": 60,
     "metadata": {},
     "output_type": "execute_result"
    }
   ],
   "source": [
    "print(X_train_smote.shape), print(y_train_smote.shape)\n",
    "print(X_valid.shape), print(y_valid.shape)\n",
    "print(X_test.shape), print(y_test.shape)"
   ]
  },
  {
   "cell_type": "code",
   "execution_count": 61,
   "metadata": {},
   "outputs": [],
   "source": [
    "df_after_smote = pd.merge(X_train_smote, y_train_smote , left_index = True, right_index=True)"
   ]
  },
  {
   "cell_type": "code",
   "execution_count": 65,
   "metadata": {},
   "outputs": [],
   "source": [
    "from sklearn.metrics import classification_report, accuracy_score\n",
    "\n",
    "\n",
    "def valid_accuracy_result(model):\n",
    "    predictions = [round(value) for value in model.predict(X_valid)]\n",
    "    accuracy = accuracy_score(y_valid, predictions)\n",
    "    return accuracy\n",
    "    \n",
    "\n",
    "def test_accuracy_result(model):\n",
    "    predictions = [round(value) for value in model.predict(X_test)]\n",
    "    accuracy = accuracy_score(y_test, predictions)\n",
    "    return accuracy\n",
    "    \n",
    "    \n",
    "def classification_report_result(model):\n",
    "    print(classification_report(y_valid, model.predict(X_valid)))"
   ]
  },
  {
   "cell_type": "code",
   "execution_count": 66,
   "metadata": {},
   "outputs": [],
   "source": [
    "from sklearn.linear_model import LogisticRegression"
   ]
  },
  {
   "cell_type": "code",
   "execution_count": 87,
   "metadata": {},
   "outputs": [
    {
     "name": "stdout",
     "output_type": "stream",
     "text": [
      "              precision    recall  f1-score   support\n",
      "\n",
      "           0       0.88      0.88      0.88      6334\n",
      "           1       0.35      0.35      0.35      1166\n",
      "\n",
      "    accuracy                           0.80      7500\n",
      "   macro avg       0.62      0.62      0.62      7500\n",
      "weighted avg       0.80      0.80      0.80      7500\n",
      "\n"
     ]
    }
   ],
   "source": [
    "logreg = LogisticRegression().fit(X_train_smote, y_train_smote)\n",
    "\n",
    "classification_report_result(logreg)"
   ]
  },
  {
   "cell_type": "code",
   "execution_count": 68,
   "metadata": {},
   "outputs": [
    {
     "name": "stdout",
     "output_type": "stream",
     "text": [
      "Validation Accuracy: 79.72%\n"
     ]
    }
   ],
   "source": [
    "logreg_valid = valid_accuracy_result(logreg)\n",
    "print(\"Validation Accuracy: %.2f%%\" % (logreg_valid * 100.0))"
   ]
  },
  {
   "cell_type": "code",
   "execution_count": 69,
   "metadata": {},
   "outputs": [
    {
     "name": "stdout",
     "output_type": "stream",
     "text": [
      "Test Accuracy: 79.57%\n"
     ]
    }
   ],
   "source": [
    "logreg_test = test_accuracy_result(logreg)\n",
    "print(\"Test Accuracy: %.2f%%\" % (logreg_test * 100.0))"
   ]
  },
  {
   "cell_type": "code",
   "execution_count": 70,
   "metadata": {},
   "outputs": [
    {
     "name": "stdout",
     "output_type": "stream",
     "text": [
      "Fitting 3 folds for each of 90 candidates, totalling 270 fits\n",
      "{'C': 10, 'max_iter': 50, 'n_jobs': -1, 'penalty': 'l2', 'solver': 'liblinear'}\n"
     ]
    }
   ],
   "source": [
    "from sklearn.model_selection import GridSearchCV\n",
    "logreg_tunned = LogisticRegression()\n",
    "logreg_tunned_params = {\"penalty\": ['l2', 'elasticnet'],\n",
    "                        \"solver\":['newton-cg', 'lbfgs', 'liblinear', 'sag', 'saga'],\n",
    "                        \"max_iter\": [50,100,200],\n",
    "                        \"n_jobs\" : [-1],\n",
    "                        \"C\": [0.1,1,10]}\n",
    "\n",
    "logreg_tunned_model = GridSearchCV(logreg_tunned, logreg_tunned_params, \n",
    "                                   scoring='roc_auc', cv=3, n_jobs=-1, verbose=2).fit(X_train_smote,y_train_smote)\n",
    "print(logreg_tunned_model.best_params_)"
   ]
  },
  {
   "cell_type": "code",
   "execution_count": 71,
   "metadata": {},
   "outputs": [],
   "source": [
    "logreg_tunned = LogisticRegression(C=10, max_iter=50, n_jobs=-1, penalty='l2', solver='newton-cg').fit(X_train_smote, y_train_smote)"
   ]
  },
  {
   "cell_type": "code",
   "execution_count": 72,
   "metadata": {},
   "outputs": [
    {
     "name": "stdout",
     "output_type": "stream",
     "text": [
      "              precision    recall  f1-score   support\n",
      "\n",
      "           0       0.89      0.90      0.89      6334\n",
      "           1       0.41      0.39      0.40      1166\n",
      "\n",
      "    accuracy                           0.82      7500\n",
      "   macro avg       0.65      0.64      0.64      7500\n",
      "weighted avg       0.81      0.82      0.82      7500\n",
      "\n"
     ]
    }
   ],
   "source": [
    "classification_report_result(logreg_tunned)"
   ]
  },
  {
   "cell_type": "code",
   "execution_count": 73,
   "metadata": {},
   "outputs": [
    {
     "name": "stdout",
     "output_type": "stream",
     "text": [
      "Validation Accuracy: 81.72%\n"
     ]
    }
   ],
   "source": [
    "logreg_valid_tunned = valid_accuracy_result(logreg_tunned)\n",
    "print(\"Validation Accuracy: %.2f%%\" % (logreg_valid_tunned * 100.0))"
   ]
  },
  {
   "cell_type": "code",
   "execution_count": 74,
   "metadata": {},
   "outputs": [
    {
     "name": "stdout",
     "output_type": "stream",
     "text": [
      "Test Accuracy: 82.47%\n"
     ]
    }
   ],
   "source": [
    "logreg_test_tunned = test_accuracy_result(logreg_tunned)\n",
    "print(\"Test Accuracy: %.2f%%\" % (logreg_test_tunned * 100.0))"
   ]
  },
  {
   "cell_type": "code",
   "execution_count": 75,
   "metadata": {},
   "outputs": [
    {
     "name": "stdout",
     "output_type": "stream",
     "text": [
      "              precision    recall  f1-score   support\n",
      "\n",
      "           0       0.87      0.94      0.90      6334\n",
      "           1       0.44      0.25      0.32      1166\n",
      "\n",
      "    accuracy                           0.83      7500\n",
      "   macro avg       0.65      0.60      0.61      7500\n",
      "weighted avg       0.80      0.83      0.81      7500\n",
      "\n"
     ]
    }
   ],
   "source": [
    "from sklearn.ensemble import RandomForestClassifier\n",
    "\n",
    "rfc = RandomForestClassifier().fit(X_train_smote, y_train_smote)\n",
    "\n",
    "classification_report_result(rfc)"
   ]
  },
  {
   "cell_type": "code",
   "execution_count": 76,
   "metadata": {},
   "outputs": [
    {
     "name": "stdout",
     "output_type": "stream",
     "text": [
      "Validation Accuracy: 83.29%\n"
     ]
    }
   ],
   "source": [
    "rfc_valid = valid_accuracy_result(rfc)\n",
    "print(\"Validation Accuracy: %.2f%%\" % (rfc_valid * 100.0))"
   ]
  },
  {
   "cell_type": "code",
   "execution_count": 77,
   "metadata": {},
   "outputs": [
    {
     "name": "stdout",
     "output_type": "stream",
     "text": [
      "Test Accuracy: 83.49%\n"
     ]
    }
   ],
   "source": [
    "rfc_test = test_accuracy_result(rfc)\n",
    "print(\"Test Accuracy: %.2f%%\" % (rfc_test * 100.0))"
   ]
  },
  {
   "cell_type": "code",
   "execution_count": 78,
   "metadata": {},
   "outputs": [
    {
     "name": "stdout",
     "output_type": "stream",
     "text": [
      "Fitting 3 folds for each of 36 candidates, totalling 108 fits\n",
      "{'max_depth': 20, 'max_features': 4, 'min_samples_leaf': 2, 'n_estimators': 200}\n"
     ]
    }
   ],
   "source": [
    "from sklearn.model_selection import GridSearchCV\n",
    "rfc_tunned = RandomForestClassifier()\n",
    "rfc_tunned_params = {'max_depth': [2,10,20],\n",
    "                     'n_estimators': [100,200],\n",
    "                     'max_features': [4,10,30],\n",
    "                     'min_samples_leaf': [2,10]}\n",
    "\n",
    "rfc_tunned_model = GridSearchCV(rfc_tunned, rfc_tunned_params, \n",
    "                                scoring='roc_auc', cv=3, n_jobs=-1, verbose=2).fit(X_train_smote,y_train_smote)\n",
    "print(rfc_tunned_model.best_params_)"
   ]
  },
  {
   "cell_type": "code",
   "execution_count": 79,
   "metadata": {},
   "outputs": [],
   "source": [
    "rfc_tunned = RandomForestClassifier(max_depth=20, max_features=4, min_samples_leaf=2, n_estimators=200).fit(X_train_smote, y_train_smote)"
   ]
  },
  {
   "cell_type": "code",
   "execution_count": 80,
   "metadata": {},
   "outputs": [
    {
     "name": "stdout",
     "output_type": "stream",
     "text": [
      "              precision    recall  f1-score   support\n",
      "\n",
      "           0       0.88      0.93      0.90      6334\n",
      "           1       0.44      0.31      0.36      1166\n",
      "\n",
      "    accuracy                           0.83      7500\n",
      "   macro avg       0.66      0.62      0.63      7500\n",
      "weighted avg       0.81      0.83      0.82      7500\n",
      "\n"
     ]
    }
   ],
   "source": [
    "classification_report_result(rfc_tunned)"
   ]
  },
  {
   "cell_type": "code",
   "execution_count": 81,
   "metadata": {},
   "outputs": [
    {
     "name": "stdout",
     "output_type": "stream",
     "text": [
      "Validation Accuracy: 83.01%\n"
     ]
    }
   ],
   "source": [
    "rfc_valid_tunned = valid_accuracy_result(rfc_tunned)\n",
    "print(\"Validation Accuracy: %.2f%%\" % (rfc_valid_tunned * 100.0))"
   ]
  },
  {
   "cell_type": "code",
   "execution_count": 82,
   "metadata": {},
   "outputs": [
    {
     "name": "stdout",
     "output_type": "stream",
     "text": [
      "Test Accuracy: 83.15%\n"
     ]
    }
   ],
   "source": [
    "rfc_test_tunned = test_accuracy_result(rfc_tunned)\n",
    "print(\"Test Accuracy: %.2f%%\" % (rfc_test_tunned * 100.0))"
   ]
  },
  {
   "cell_type": "code",
   "execution_count": 84,
   "metadata": {},
   "outputs": [
    {
     "data": {
      "image/png": "[encoded data removed]",
      "text/plain": [
       "<Figure size 1000x600 with 1 Axes>"
      ]
     },
     "metadata": {},
     "output_type": "display_data"
    }
   ],
   "source": [
    "plt.figure(figsize=(10, 6))\n",
    "plt.plot([logreg_valid, logreg_test, logreg_valid_tunned, logreg_test_tunned,\n",
    "          rfc_valid, rfc_test, rfc_valid_tunned, rfc_test_tunned], marker=\"o\")\n",
    "plt.legend([\"Logistic Regression\", \"Logistic Regression Tuned\", \"Random Forest\", \"Random Forest Tuned\"])\n",
    "plt.xticks([0, 1, 2, 3, 4, 5, 6, 7], [\"Logreg Valid\", \"Logreg Test\", \"Logreg Valid Tuned\", \"Logreg Test Tuned\",\n",
    "                                      \"RFC Valid\", \"RFC Test\", \"RFC Valid Tuned\", \"RFC Test Tuned\"], rotation=45)\n",
    "plt.title(\"Model Comparison\")\n",
    "plt.show()\n"
   ]
  }
 ],
 "metadata": {
  "kernelspec": {
   "display_name": "Python 3",
   "language": "python",
   "name": "python3"
  },
  "language_info": {
   "codemirror_mode": {
    "name": "ipython",
    "version": 3
   },
   "file_extension": ".py",
   "mimetype": "text/x-python",
   "name": "python",
   "nbconvert_exporter": "python",
   "pygments_lexer": "ipython3",
   "version": "3.12.6"
  },
  "orig_nbformat": 4
 },
 "nbformat": 4,
 "nbformat_minor": 2
}
